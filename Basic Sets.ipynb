{
 "cells": [
  {
   "cell_type": "code",
   "execution_count": 2,
   "id": "8569c96f",
   "metadata": {},
   "outputs": [
    {
     "name": "stdout",
     "output_type": "stream",
     "text": [
      "{2, 34}\n",
      "{3, 6, 234, 45, 2334}\n"
     ]
    }
   ],
   "source": [
    "#creating a set\n",
    "x=(2,34,34)\n",
    "y=[2334,3,45,234,6,3]\n",
    "print(set(x))\n",
    "print(set(y))"
   ]
  },
  {
   "cell_type": "code",
   "execution_count": 11,
   "id": "65f39afe",
   "metadata": {},
   "outputs": [
    {
     "name": "stdout",
     "output_type": "stream",
     "text": [
      "3 54 4343 232 234 "
     ]
    }
   ],
   "source": [
    "#iterating over the sets\n",
    "s={232,234,54,4343,3}\n",
    "for i in s:\n",
    "    print(i, end=' ')"
   ]
  },
  {
   "cell_type": "code",
   "execution_count": 14,
   "id": "0ab58e48",
   "metadata": {},
   "outputs": [
    {
     "name": "stdout",
     "output_type": "stream",
     "text": [
      "4866\n"
     ]
    }
   ],
   "source": [
    "#addition the members of the set if all are integers\n",
    "print(sum(s))"
   ]
  },
  {
   "cell_type": "code",
   "execution_count": 25,
   "id": "e3d39e88",
   "metadata": {},
   "outputs": [
    {
     "name": "stdout",
     "output_type": "stream",
     "text": [
      "set()\n",
      "{'item'}\n",
      "{'a', 'd', 'f', 'item'}\n",
      "{'d', 'f', 'item'}\n",
      "{'d', 'f'}\n"
     ]
    }
   ],
   "source": [
    "#addition of new members and also removal in different ways\n",
    "s=set()\n",
    "print(s)\n",
    "s.add('item')\n",
    "print(s)\n",
    "s.update('adf','adf')\n",
    "print(s)\n",
    "s.pop() #pop removes first member of the set\n",
    "print(s)\n",
    "s.discard('item') #discard removes selected item\n",
    "print(s)"
   ]
  },
  {
   "cell_type": "code",
   "execution_count": 32,
   "id": "bce415f0",
   "metadata": {},
   "outputs": [
    {
     "name": "stdout",
     "output_type": "stream",
     "text": [
      "{1, 34}\n",
      "{1, 34}\n"
     ]
    }
   ],
   "source": [
    "#intersection of two sets\n",
    "s1={1,34,35,2}\n",
    "s2={3,1,34,36}\n",
    "print(s1.intersection(s2))\n",
    "#or\n",
    "print(s1 & s2)"
   ]
  },
  {
   "cell_type": "code",
   "execution_count": 37,
   "id": "795edd20",
   "metadata": {},
   "outputs": [
    {
     "name": "stdout",
     "output_type": "stream",
     "text": [
      "{1, 2, 35, 34, 3, 36}\n"
     ]
    }
   ],
   "source": [
    "#Union of two sets\n",
    "s1={1,34,35,2}\n",
    "s2={3,1,34,36}\n",
    "print(s1.union(s2))"
   ]
  },
  {
   "cell_type": "code",
   "execution_count": 29,
   "id": "b644c78a",
   "metadata": {},
   "outputs": [
    {
     "name": "stdout",
     "output_type": "stream",
     "text": [
      "{2, 35}\n",
      "{3, 36}\n"
     ]
    }
   ],
   "source": [
    "#difference of two sets\n",
    "s1={1,34,35,2}\n",
    "s2={3,1,34,36}\n",
    "print(s1.difference(s2))\n",
    "print(s2.difference(s1))"
   ]
  },
  {
   "cell_type": "code",
   "execution_count": 38,
   "id": "b5e761a5",
   "metadata": {},
   "outputs": [
    {
     "name": "stdout",
     "output_type": "stream",
     "text": [
      "{2, 3, 36, 35}\n"
     ]
    }
   ],
   "source": [
    "#symmetric difference\n",
    "s1={1,34,35,2}\n",
    "s2={3,1,34,36}\n",
    "print(s1.symmetric_difference(s2))\n",
    "print(s1)"
   ]
  },
  {
   "cell_type": "code",
   "execution_count": 45,
   "id": "0ee1f219",
   "metadata": {},
   "outputs": [
    {
     "name": "stdout",
     "output_type": "stream",
     "text": [
      "True\n",
      "False\n"
     ]
    }
   ],
   "source": [
    "#checking the subset\n",
    "x={1}\n",
    "s1={1,34,35,2}\n",
    "s2={3,1,34,36}\n",
    "print(x.issubset(s1))\n",
    "print(s1.issubset(s2))"
   ]
  },
  {
   "cell_type": "code",
   "execution_count": 46,
   "id": "a49c552d",
   "metadata": {},
   "outputs": [
    {
     "name": "stdout",
     "output_type": "stream",
     "text": [
      "{1, 2, 35, 34}\n"
     ]
    }
   ],
   "source": [
    "#shallow copy of the object\n",
    "s1={1,34,35,2}\n",
    "s2={3,1,34,36}\n",
    "s3=s1.copy()\n",
    "print(s3)"
   ]
  },
  {
   "cell_type": "code",
   "execution_count": 50,
   "id": "16808d85",
   "metadata": {},
   "outputs": [
    {
     "name": "stdout",
     "output_type": "stream",
     "text": [
      "None\n"
     ]
    }
   ],
   "source": [
    "#removing all the members of the given set\n",
    "s1={1,34,35,2}\n",
    "s2={3,1,34,36}\n",
    "s3=s1.clear()\n",
    "print(s3)"
   ]
  },
  {
   "cell_type": "code",
   "execution_count": 53,
   "id": "11418386",
   "metadata": {},
   "outputs": [
    {
     "name": "stdout",
     "output_type": "stream",
     "text": [
      "False\n"
     ]
    }
   ],
   "source": [
    "#frozen sets(they are immutable)\n",
    "s1={1,34,35,2}\n",
    "s1=frozenset(s1)\n",
    "s2={3,1,34,36}\n",
    "s3=s1.isdisjoint(s2) #no elements should be in common\n",
    "print(s3)"
   ]
  },
  {
   "cell_type": "code",
   "execution_count": 56,
   "id": "f924719c",
   "metadata": {},
   "outputs": [
    {
     "name": "stdout",
     "output_type": "stream",
     "text": [
      "35\n",
      "1\n",
      "4\n"
     ]
    }
   ],
   "source": [
    "#finding the maximum, minimum and length of sets\n",
    "s1={1,34,35,2}\n",
    "s2={3,1,34,36}\n",
    "print(max(s1))\n",
    "print(min(s2))\n",
    "print(len(s1))"
   ]
  },
  {
   "cell_type": "code",
   "execution_count": 59,
   "id": "de2420ac",
   "metadata": {},
   "outputs": [
    {
     "name": "stdout",
     "output_type": "stream",
     "text": [
      "True\n",
      "False\n"
     ]
    }
   ],
   "source": [
    "#checking the item is present in set or not\n",
    "s1={1,34,35,2}\n",
    "s2={3,1,34,36}\n",
    "print(34 in s1)\n",
    "print(10 in s2)"
   ]
  },
  {
   "cell_type": "code",
   "execution_count": 62,
   "id": "2a2884b8",
   "metadata": {},
   "outputs": [
    {
     "name": "stdout",
     "output_type": "stream",
     "text": [
      "True\n"
     ]
    }
   ],
   "source": [
    "#super set\n",
    "s1={1,34,35,2}\n",
    "s2={3,1,34,36}\n",
    "print(s1.issuperset(s1))"
   ]
  },
  {
   "cell_type": "code",
   "execution_count": 75,
   "id": "0c44e070",
   "metadata": {},
   "outputs": [
    {
     "name": "stdout",
     "output_type": "stream",
     "text": [
      "{1, 34}\n",
      "{1, 34}\n"
     ]
    }
   ],
   "source": [
    "#removing the intersection of second set with the first set\n",
    "s1={1,34,35,2}\n",
    "s2={3,1,34,36}\n",
    "s1.intersection_update(s2)\n",
    "print(s1)\n",
    "s2.intersection_update(s1)\n",
    "print(s2)"
   ]
  },
  {
   "cell_type": "code",
   "execution_count": 81,
   "id": "cae7701f",
   "metadata": {},
   "outputs": [
    {
     "name": "stdout",
     "output_type": "stream",
     "text": [
      "{'2234': 1, '2342': 1, 'red': 4, 'green': 2}\n"
     ]
    }
   ],
   "source": [
    "#word counting\n",
    "x=['2234','2342','red','green','red','red','red','green']\n",
    "m={}\n",
    "for i in x:\n",
    "    m[i]=x.count(i)\n",
    "print(m)"
   ]
  },
  {
   "cell_type": "code",
   "execution_count": 82,
   "id": "b9e03f43",
   "metadata": {},
   "outputs": [
    {
     "name": "stdout",
     "output_type": "stream",
     "text": [
      "6\n"
     ]
    }
   ],
   "source": [
    "min_length = min([len(word) for word in ['pqrefg','pqrefsdf']])\n",
    "print(min_length)"
   ]
  },
  {
   "cell_type": "code",
   "execution_count": 1,
   "id": "3bfb5ccc",
   "metadata": {},
   "outputs": [
    {
     "name": "stdout",
     "output_type": "stream",
     "text": [
      "7\n"
     ]
    }
   ],
   "source": [
    "#finding the third largest number in the given list\n",
    "k=[1,2,3,4,5,6,7,345,233,1]\n",
    "k=sorted(k)\n",
    "print(k[-3])"
   ]
  },
  {
   "cell_type": "code",
   "execution_count": 3,
   "id": "8b6f4a3c",
   "metadata": {},
   "outputs": [
    {
     "name": "stdout",
     "output_type": "stream",
     "text": [
      "('64bit', 'WindowsPE')\n"
     ]
    }
   ],
   "source": [
    "import os,sys,platform\n",
    "print(platform.architecture())"
   ]
  },
  {
   "cell_type": "code",
   "execution_count": 4,
   "id": "a0baca27",
   "metadata": {},
   "outputs": [
    {
     "name": "stdout",
     "output_type": "stream",
     "text": [
      "Intel64 Family 6 Model 154 Stepping 4, GenuineIntel\n"
     ]
    }
   ],
   "source": [
    "print(platform.processor())"
   ]
  },
  {
   "cell_type": "code",
   "execution_count": 5,
   "id": "ec47b4ac",
   "metadata": {},
   "outputs": [],
   "source": [
    "s = [[5,1],[7,1],[8,1],[10,6],[11,10],[12,4],[13,4],[15,4],[16,2],[17,1],\n",
    "[18,1],[19,1]]\n",
    "def nombreEleves (l):\n",
    "    i= 0\n",
    "    somme = 0\n",
    "    while(i<len(l)):\n",
    "        somme = somme + l[i][1]\n",
    "        i=i+1\n",
    "    return somme"
   ]
  },
  {
   "cell_type": "code",
   "execution_count": 6,
   "id": "da19ab96",
   "metadata": {},
   "outputs": [
    {
     "data": {
      "text/plain": [
       "36"
      ]
     },
     "execution_count": 6,
     "metadata": {},
     "output_type": "execute_result"
    }
   ],
   "source": [
    "nombreEleves(s)"
   ]
  }
 ],
 "metadata": {
  "kernelspec": {
   "display_name": "Python 3 (ipykernel)",
   "language": "python",
   "name": "python3"
  },
  "language_info": {
   "codemirror_mode": {
    "name": "ipython",
    "version": 3
   },
   "file_extension": ".py",
   "mimetype": "text/x-python",
   "name": "python",
   "nbconvert_exporter": "python",
   "pygments_lexer": "ipython3",
   "version": "3.10.7"
  }
 },
 "nbformat": 4,
 "nbformat_minor": 5
}
