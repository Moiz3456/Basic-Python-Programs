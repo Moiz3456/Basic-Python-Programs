{
 "cells": [
  {
   "cell_type": "code",
   "execution_count": 1,
   "id": "58785934",
   "metadata": {},
   "outputs": [
    {
     "name": "stdout",
     "output_type": "stream",
     "text": [
      "2.8284271247461903\n"
     ]
    }
   ],
   "source": [
    "#calculate the distance between the two points\n",
    "import math\n",
    "f=(2,4)\n",
    "s=(4,6)\n",
    "    #plotting the points in graph and checking the distance\n",
    "d=math.sqrt(pow((4-2),2)+pow((6-4),2))\n",
    "print(d)"
   ]
  },
  {
   "cell_type": "code",
   "execution_count": 38,
   "id": "f8a2195b",
   "metadata": {},
   "outputs": [
    {
     "name": "stdout",
     "output_type": "stream",
     "text": [
      "C:\\Users\\moizu\n",
      "architecture ('64bit', 'WindowsPE')\n",
      "platform Windows-10-10.0.19045-SP0\n",
      "python_version 3.11.4\n",
      "machine AMD64\n",
      "processor Intel64 Family 6 Model 69 Stepping 1, GenuineIntel\n",
      "release 10\n",
      "uname uname_result(system='Windows', node='DESKTOP-D7J3DN9', release='10', version='10.0.19045', machine='AMD64')\n",
      "['C:\\\\Users\\\\moizu\\\\AppData\\\\Local\\\\Programs\\\\Python\\\\Python311', 'C:\\\\Users\\\\moizu\\\\AppData\\\\Local\\\\Programs\\\\Python\\\\Python311\\\\Lib\\\\site-packages']\n",
      "cpu_Count 4\n",
      "['.atom', '.gradle', '.hellow.txt.un~', '.idlerc', '.ipynb_checkpoints', '.ipython', '.jupyter', '.m2', '.oracle_jre_usage', '.Origin', '.QtWebEngineProcess', '.vscode', '.Xilinx', '3D Objects', 'AndroidStudioProjects', 'AppData', 'Apple', 'Application Data', 'Assassins Creed IV Black Flag', 'Autodesk', 'Basic 1.ipynb', 'basic 10.ipynb', 'Contacts', 'Cookies', 'Desktop', 'Documents', 'Downloads', 'Favorites', 'file.err', 'file.log', 'hellow.txt', 'hellow.txt~', 'IBA_IOAPDATA', 'IntelGraphicsProfiles', 'Links', 'Local Settings', 'MicrosoftEdgeBackups', 'Music', 'My Documents', 'NetHood', 'NTUSER.DAT', 'ntuser.dat.LOG1', 'ntuser.dat.LOG2', 'NTUSER.DAT{cf79c3f5-3f64-11eb-8cb9-1458d0cb1086}.TM.blf', 'NTUSER.DAT{cf79c3f5-3f64-11eb-8cb9-1458d0cb1086}.TMContainer00000000000000000001.regtrans-ms', 'NTUSER.DAT{cf79c3f5-3f64-11eb-8cb9-1458d0cb1086}.TMContainer00000000000000000002.regtrans-ms', 'ntuser.ini', 'OneDrive', 'OS Services.ipynb', 'Patterns.ipynb', 'PrintHood', 'PycharmProjects', 'Recent', 'Saved Games', 'Searches', 'SendTo', 'Start Menu', 'Templates', 'Tracing', 'Untitled.ipynb', 'Untitled1.ipynb', 'Untitled2.ipynb', 'Untitled3.ipynb', 'Videos', 'vimfiles', '_viminfo']\n"
     ]
    }
   ],
   "source": [
    "#using python, checking the windows configuration\n",
    "import os,platform,site\n",
    "q=os.getcwd()\n",
    "print(q)\n",
    "b=platform.architecture()\n",
    "print('architecture',b)\n",
    "v=platform.platform()\n",
    "print('platform',v)\n",
    "r=platform.python_version()\n",
    "print('python_version',r)\n",
    "k=platform.machine()\n",
    "print('machine',k)\n",
    "f=platform.processor()\n",
    "print('processor',f)\n",
    "r=platform.release()\n",
    "print('release',r)\n",
    "a=platform.uname()\n",
    "print('uname',a)\n",
    "s=site.getsitepackages()\n",
    "print(s)\n",
    "x=os.cpu_count()\n",
    "print('cpu_Count',x)\n",
    "list_files=os.listdir()\n",
    "print(list_files)"
   ]
  },
  {
   "cell_type": "code",
   "execution_count": 50,
   "id": "7004559b",
   "metadata": {},
   "outputs": [
    {
     "name": "stdout",
     "output_type": "stream",
     "text": [
      "1,2,3\n"
     ]
    }
   ],
   "source": [
    "print('1,2,3')"
   ]
  },
  {
   "cell_type": "code",
   "execution_count": 13,
   "id": "b6934e98",
   "metadata": {},
   "outputs": [
    {
     "name": "stdout",
     "output_type": "stream",
     "text": [
      "environ({'ALLUSERSPROFILE': 'C:\\\\ProgramData', 'APPDATA': 'C:\\\\Users\\\\moizu\\\\AppData\\\\Roaming', 'COMMONPROGRAMFILES': 'C:\\\\Program Files\\\\Common Files', 'COMMONPROGRAMFILES(X86)': 'C:\\\\Program Files (x86)\\\\Common Files', 'COMMONPROGRAMW6432': 'C:\\\\Program Files\\\\Common Files', 'COMPUTERNAME': 'DESKTOP-D7J3DN9', 'COMSPEC': 'C:\\\\WINDOWS\\\\system32\\\\cmd.exe', 'DRIVERDATA': 'C:\\\\Windows\\\\System32\\\\Drivers\\\\DriverData', 'HOMEDRIVE': 'C:', 'HOMEPATH': '\\\\Users\\\\moizu', 'JAVA_HOME': 'C:\\\\Program Files\\\\Java\\\\jdk-18.0.2.1', 'LM_LICENSE_FILE': 'C:\\\\flexlm\\\\lic_questasim.TXT', 'LOCALAPPDATA': 'C:\\\\Users\\\\moizu\\\\AppData\\\\Local', 'LOGONSERVER': '\\\\\\\\DESKTOP-D7J3DN9', 'NUMBER_OF_PROCESSORS': '4', 'ONEDRIVE': 'C:\\\\Users\\\\moizu\\\\OneDrive', 'ONEDRIVECONSUMER': 'C:\\\\Users\\\\moizu\\\\OneDrive', 'OS': 'Windows_NT', 'PATH': 'C:\\\\WINDOWS\\\\system32;C:\\\\WINDOWS;C:\\\\WINDOWS\\\\System32\\\\Wbem;C:\\\\WINDOWS\\\\System32\\\\WindowsPowerShell\\\\v1.0\\\\;C:\\\\WINDOWS\\\\System32\\\\OpenSSH\\\\;C:\\\\Program Files\\\\Java\\\\jdk-18.0.2.1\\\\bin;C:\\\\Program Files (x86)\\\\Vim\\\\vim90;C:\\\\Users\\\\moizu\\\\AppData\\\\Local\\\\Programs\\\\Python\\\\Python311;C:\\\\Users\\\\moizu\\\\AppData\\\\Local\\\\Microsoft\\\\WindowsApps;C:\\\\questasim64_10.6c\\\\win64;C:\\\\Users\\\\moizu\\\\AppData\\\\Local\\\\Programs\\\\Python\\\\Python311\\\\Scripts;', 'PATHEXT': '.COM;.EXE;.BAT;.CMD;.VBS;.VBE;.JS;.JSE;.WSF;.WSH;.MSC', 'PROCESSOR_ARCHITECTURE': 'AMD64', 'PROCESSOR_IDENTIFIER': 'Intel64 Family 6 Model 69 Stepping 1, GenuineIntel', 'PROCESSOR_LEVEL': '6', 'PROCESSOR_REVISION': '4501', 'PROGRAMDATA': 'C:\\\\ProgramData', 'PROGRAMFILES': 'C:\\\\Program Files', 'PROGRAMFILES(X86)': 'C:\\\\Program Files (x86)', 'PROGRAMW6432': 'C:\\\\Program Files', 'PROMPT': '$P$G', 'PSMODULEPATH': 'C:\\\\Program Files\\\\WindowsPowerShell\\\\Modules;C:\\\\WINDOWS\\\\system32\\\\WindowsPowerShell\\\\v1.0\\\\Modules', 'PUBLIC': 'C:\\\\Users\\\\Public', 'SESSIONNAME': 'Console', 'SYSTEMDRIVE': 'C:', 'SYSTEMROOT': 'C:\\\\WINDOWS', 'TEMP': 'C:\\\\Users\\\\moizu\\\\AppData\\\\Local\\\\Temp', 'TMP': 'C:\\\\Users\\\\moizu\\\\AppData\\\\Local\\\\Temp', 'USERDOMAIN': 'DESKTOP-D7J3DN9', 'USERDOMAIN_ROAMINGPROFILE': 'DESKTOP-D7J3DN9', 'USERNAME': 'moizuddin', 'USERPROFILE': 'C:\\\\Users\\\\moizu', 'WINDIR': 'C:\\\\WINDOWS', 'PYDEVD_USE_FRAME_EVAL': 'NO', 'JPY_INTERRUPT_EVENT': '2380', 'IPY_INTERRUPT_EVENT': '2380', 'JPY_PARENT_PID': '2372', 'TERM': 'xterm-color', 'CLICOLOR': '1', 'FORCE_COLOR': '1', 'CLICOLOR_FORCE': '1', 'PAGER': 'cat', 'GIT_PAGER': 'cat', 'MPLBACKEND': 'module://matplotlib_inline.backend_inline'})\n"
     ]
    }
   ],
   "source": [
    "#access environment variables\n",
    "import os\n",
    "print(os.environ)"
   ]
  },
  {
   "cell_type": "code",
   "execution_count": 14,
   "id": "483ddb95",
   "metadata": {},
   "outputs": [
    {
     "name": "stdout",
     "output_type": "stream",
     "text": [
      "moizuddin\n"
     ]
    }
   ],
   "source": [
    "import getpass\n",
    "print(getpass.getuser())"
   ]
  },
  {
   "cell_type": "code",
   "execution_count": 20,
   "id": "a3df18c8",
   "metadata": {},
   "outputs": [
    {
     "name": "stdout",
     "output_type": "stream",
     "text": [
      "DESKTOP-D7J3DN9\n"
     ]
    }
   ],
   "source": [
    "import socket\n",
    "print(socket.gethostname())"
   ]
  },
  {
   "cell_type": "code",
   "execution_count": 32,
   "id": "392f448b",
   "metadata": {},
   "outputs": [
    {
     "name": "stdout",
     "output_type": "stream",
     "text": [
      "time taken is 3.583676338195801\n"
     ]
    }
   ],
   "source": [
    "#another method to calculate time\n",
    "import time\n",
    "def list_of_prime():\n",
    "    t=time.time()\n",
    "    for i in range(1564,10540):\n",
    "        for j in range(2,i):\n",
    "            if i%2==0:\n",
    "                'prime'\n",
    "                break\n",
    "        else:\n",
    "            (i,\"Prime\")   \n",
    "    e=time.time()\n",
    "    f=e-t\n",
    "    print('time taken is',f)\n",
    "list_of_prime()"
   ]
  },
  {
   "cell_type": "code",
   "execution_count": 33,
   "id": "af046688",
   "metadata": {},
   "outputs": [
    {
     "name": "stdout",
     "output_type": "stream",
     "text": [
      "10 feet is 304.8 cm\n"
     ]
    }
   ],
   "source": [
    "#feet to cm\n",
    "#1 feet is 12 inches\n",
    "#1 inch is 2.54cm\n",
    "feet =10\n",
    "print(\"10 feet is\",10*12*2.54,'cm')"
   ]
  },
  {
   "cell_type": "code",
   "execution_count": 92,
   "id": "fa8ef949",
   "metadata": {},
   "outputs": [
    {
     "name": "stdout",
     "output_type": "stream",
     "text": [
      "C:\\Users\\moizu\\basic 1.1.ipynb\n",
      "Sat Jul 22 07:39:13 2023\n",
      "C:\\Users\\moizu\\hellow.txt\n",
      "Wed Oct 19 17:51:53 2022\n"
     ]
    }
   ],
   "source": [
    "#finding the absolute path and check the created time and modified time\n",
    "import os,time\n",
    "print(os.path.abspath(\"basic 1.1.ipynb\"))\n",
    "print(time.ctime(os.path.getctime(\"basic 1.1.ipynb\")))\n",
    "print(os.path.abspath('hellow.txt'))\n",
    "print(time.ctime(os.path.getctime(\"hellow.txt\")))"
   ]
  },
  {
   "cell_type": "code",
   "execution_count": 53,
   "id": "c15e4d60",
   "metadata": {},
   "outputs": [
    {
     "name": "stdout",
     "output_type": "stream",
     "text": [
      "19.369834710743802\n"
     ]
    }
   ],
   "source": [
    "#to calculate the BMI, height should be in meters\n",
    "weigh=60\n",
    "height=1.76\n",
    "bmi=weigh/pow(height,2)\n",
    "print(bmi)"
   ]
  },
  {
   "cell_type": "code",
   "execution_count": 57,
   "id": "89a64fbc",
   "metadata": {},
   "outputs": [
    {
     "name": "stdout",
     "output_type": "stream",
     "text": [
      "2 5 10\n"
     ]
    }
   ],
   "source": [
    "#sorting 3 integers without loops\n",
    "a=5\n",
    "b=10\n",
    "c=2\n",
    "if a<b and b<c:\n",
    "    print(a,b,c)\n",
    "elif b<a and a<c:\n",
    "    print(b,a,c)\n",
    "elif a<c and c<a:\n",
    "    print(a,c,a)\n",
    "elif b<c and c<a:\n",
    "    print(b,c,a)\n",
    "elif c<a and a<b:\n",
    "    print(c,a,b)\n",
    "elif c<b and b<a:\n",
    "    print(c,b,a)\n"
   ]
  },
  {
   "cell_type": "code",
   "execution_count": 66,
   "id": "515f43f4",
   "metadata": {},
   "outputs": [
    {
     "name": "stdout",
     "output_type": "stream",
     "text": [
      "Copyright (c) 2001-2023 Python Software Foundation.\n",
      "All Rights Reserved.\n",
      "\n",
      "Copyright (c) 2000 BeOpen.com.\n",
      "All Rights Reserved.\n",
      "\n",
      "Copyright (c) 1995-2001 Corporation for National Research Initiatives.\n",
      "All Rights Reserved.\n",
      "\n",
      "Copyright (c) 1991-1995 Stichting Mathematisch Centrum, Amsterdam.\n",
      "All Rights Reserved.\n"
     ]
    }
   ],
   "source": [
    "#copyright information\n",
    "import sys\n",
    "print(sys.copyright)\n"
   ]
  },
  {
   "cell_type": "code",
   "execution_count": 63,
   "id": "cf2e6b54",
   "metadata": {},
   "outputs": [
    {
     "name": "stdout",
     "output_type": "stream",
     "text": [
      "This is the name/path of the script:\n",
      "Number of arguments: 3\n",
      "Argument List: ['C:\\\\Users\\\\moizu\\\\AppData\\\\Local\\\\Programs\\\\Python\\\\Python311\\\\Lib\\\\site-packages\\\\ipykernel_launcher.py', '-f', 'C:\\\\Users\\\\moizu\\\\AppData\\\\Roaming\\\\jupyter\\\\runtime\\\\kernel-229cbe7c-7010-4fbc-a01d-9365ce7646a7.json']\n"
     ]
    }
   ],
   "source": []
  },
  {
   "cell_type": "code",
   "execution_count": 67,
   "id": "529ddc76",
   "metadata": {},
   "outputs": [
    {
     "name": "stdout",
     "output_type": "stream",
     "text": [
      "little\n"
     ]
    }
   ],
   "source": [
    "#chekcing tthe little endian\n",
    "import sys\n",
    "print(sys.byteorder)"
   ]
  },
  {
   "cell_type": "code",
   "execution_count": 69,
   "id": "ddb7478e",
   "metadata": {},
   "outputs": [
    {
     "name": "stdout",
     "output_type": "stream",
     "text": [
      "('_abc', '_ast', '_bisect', '_blake2', '_codecs', '_codecs_cn', '_codecs_hk', '_codecs_iso2022', '_codecs_jp', '_codecs_kr', '_codecs_tw', '_collections', '_contextvars', '_csv', '_datetime', '_functools', '_heapq', '_imp', '_io', '_json', '_locale', '_lsprof', '_md5', '_multibytecodec', '_opcode', '_operator', '_pickle', '_random', '_sha1', '_sha256', '_sha3', '_sha512', '_signal', '_sre', '_stat', '_statistics', '_string', '_struct', '_symtable', '_thread', '_tokenize', '_tracemalloc', '_typing', '_warnings', '_weakref', '_winapi', '_xxsubinterpreters', 'array', 'atexit', 'audioop', 'binascii', 'builtins', 'cmath', 'errno', 'faulthandler', 'gc', 'itertools', 'marshal', 'math', 'mmap', 'msvcrt', 'nt', 'sys', 'time', 'winreg', 'xxsubtype', 'zlib')\n"
     ]
    }
   ],
   "source": [
    "#checking the availability of builtin modules\n",
    "import sys\n",
    "print(sys.builtin_module_names)"
   ]
  },
  {
   "cell_type": "code",
   "execution_count": 70,
   "id": "e093b672",
   "metadata": {},
   "outputs": [
    {
     "name": "stdout",
     "output_type": "stream",
     "text": [
      "104\n"
     ]
    }
   ],
   "source": [
    "#knowing the size in bytes\n",
    "import sys\n",
    "f=[1,2,3,4,['donky'],'kreativ']\n",
    "print(sys.getsizeof(f))"
   ]
  },
  {
   "cell_type": "code",
   "execution_count": 74,
   "id": "0f2a17df",
   "metadata": {},
   "outputs": [
    {
     "name": "stdout",
     "output_type": "stream",
     "text": [
      "flwoer,rose,lily,pink\n"
     ]
    }
   ],
   "source": [
    "#concatenating all the strings in the list\n",
    "l=['flwoer','rose','lily','pink']\n",
    "print(','.join(l))"
   ]
  },
  {
   "cell_type": "code",
   "execution_count": 89,
   "id": "014b24c2",
   "metadata": {},
   "outputs": [
    {
     "name": "stdout",
     "output_type": "stream",
     "text": [
      "Z\n",
      "32\n"
     ]
    }
   ],
   "source": [
    "#getting the ASCII value of the character\n",
    "ascii=chr(90)\n",
    "print(ascii)\n",
    "print(ord(' '))"
   ]
  },
  {
   "cell_type": "code",
   "execution_count": 91,
   "id": "ea69d9cd",
   "metadata": {},
   "outputs": [
    {
     "name": "stdout",
     "output_type": "stream",
     "text": [
      "26\n"
     ]
    }
   ],
   "source": [
    "#get file size\n",
    "k='hellow.txt'\n",
    "import os\n",
    "print(os.path.getsize(k))"
   ]
  },
  {
   "cell_type": "code",
   "execution_count": 95,
   "id": "02e2395c",
   "metadata": {},
   "outputs": [
    {
     "name": "stdout",
     "output_type": "stream",
     "text": [
      "<class 'int'>\n",
      "140728427471944\n"
     ]
    }
   ],
   "source": [
    "#finding the id and type of the given variable\n",
    "v=10\n",
    "print(type(v))\n",
    "print(id(v))"
   ]
  },
  {
   "cell_type": "code",
   "execution_count": 98,
   "id": "42b18415",
   "metadata": {},
   "outputs": [
    {
     "name": "stdout",
     "output_type": "stream",
     "text": [
      "[107, 105, 110, 103, 32, 107, 111, 110, 103]\n"
     ]
    }
   ],
   "source": [
    "#converting the objects in to the its values\n",
    "x=b'king kong'\n",
    "print(list(x))"
   ]
  },
  {
   "cell_type": "code",
   "execution_count": 102,
   "id": "f82e0444",
   "metadata": {},
   "outputs": [
    {
     "name": "stdout",
     "output_type": "stream",
     "text": [
      "not numeric\n",
      "\n"
     ]
    }
   ],
   "source": [
    "#checking the given value is numeric or not\n",
    "c='2a'\n",
    "try:\n",
    "    i=float(c)\n",
    "    print(\"Numeric\")\n",
    "except (ValueError,TypeError):\n",
    "    print('not numeric')\n",
    "print()"
   ]
  },
  {
   "cell_type": "code",
   "execution_count": 104,
   "id": "3b7d4eff",
   "metadata": {},
   "outputs": [
    {
     "name": "stdout",
     "output_type": "stream",
     "text": [
      "Sat Jul 22 09:32:48 2023\n"
     ]
    }
   ],
   "source": [
    "#get system time\n",
    "import time\n",
    "print(time.asctime())"
   ]
  },
  {
   "cell_type": "code",
   "execution_count": 106,
   "id": "5078f960",
   "metadata": {},
   "outputs": [
    {
     "name": "stdout",
     "output_type": "stream",
     "text": [
      "DESKTOP-D7J3DN9\n"
     ]
    }
   ],
   "source": [
    "#get the name of the host on which the route is running\n",
    "import socket\n",
    "print(socket.gethostname())"
   ]
  },
  {
   "cell_type": "code",
   "execution_count": 111,
   "id": "41b537e4",
   "metadata": {},
   "outputs": [
    {
     "name": "stdout",
     "output_type": "stream",
     "text": [
      "b'<HTML><HEAD><meta http-equiv=\"content-type\" content=\"text/html;charset=utf-8\">\\n<TITLE>301 Moved</TITLE></HEAD><BODY>\\n<H1>301 Moved</H1>\\nThe document has moved\\n<A HREF=\"http://www.google.com/\">here</A>.\\r\\n</BODY></HTML>\\r\\n'\n"
     ]
    }
   ],
   "source": [
    "#access the content from the website\n",
    "from http.client import HTTPConnection\n",
    "conn = HTTPConnection(\"google.com\")\n",
    "conn.request(\"GET\", \"/\")  \n",
    "result = conn.getresponse()  \n",
    "contents = result.read() \n",
    "print(contents)\n"
   ]
  },
  {
   "cell_type": "code",
   "execution_count": 116,
   "id": "ba940811",
   "metadata": {},
   "outputs": [
    {
     "name": "stdout",
     "output_type": "stream",
     "text": [
      "hello.txt\n",
      "\"hello.txt\": ('hello', '.txt')\n"
     ]
    }
   ],
   "source": [
    "#extract the file name form the given path AND seperate the filename and its extension\n",
    "import os\n",
    "p='k/f/sdf/dsff/gs/da/fa/df/hello.txt'\n",
    "x=os.path.basename(p)\n",
    "print(x)\n",
    "print('\"%s\":' %x, os.path.splitext(x))"
   ]
  },
  {
   "cell_type": "code",
   "execution_count": 122,
   "id": "943eaccf",
   "metadata": {},
   "outputs": [
    {
     "name": "stdout",
     "output_type": "stream",
     "text": [
      "Input a number3\n"
     ]
    }
   ],
   "source": [
    "while True:\n",
    "        try:\n",
    "            a=int(input(\"Input a number\"))\n",
    "            break\n",
    "        except ValueError:\n",
    "            print('\\n this is not a number, Try again')\n",
    "            print()"
   ]
  },
  {
   "cell_type": "code",
   "execution_count": 128,
   "id": "982d8625",
   "metadata": {},
   "outputs": [
    {
     "name": "stdout",
     "output_type": "stream",
     "text": [
      "T0ython Exercises - w3resource\n"
     ]
    }
   ],
   "source": [
    "#how to make unicode characters\n",
    "str = u'\\u00540\\u0079\\u0074\\u0068\\u006f\\u006e \\u0045\\u0078\\u0065\\u0072\\u0063\\u0069\\u0073\\u0065\\u0073 \\u002d \\u0077\\u0033\\u0072\\u0065\\u0073\\u006f\\u0075\\u0072\\u0063\\u0065'\n",
    "print(str)"
   ]
  },
  {
   "cell_type": "code",
   "execution_count": 138,
   "id": "6cca08e8",
   "metadata": {},
   "outputs": [
    {
     "name": "stdout",
     "output_type": "stream",
     "text": [
      "\n",
      "Memory location of str1 = 0b11111111111110111100011110110001000011111111000\n",
      "Memory location of str2 = 0b11111111111110111100011110110001000011111111000\n",
      "\n",
      "\n",
      "Memory location of str1 = 0x7ffde3d887f8\n",
      "Memory location of str2 = 0x7ffde3d887f8\n",
      "\n",
      "\n",
      "Memory location of str1 = 0o3777674366103770\n",
      "Memory location of str2 = 0o3777674366103770\n",
      "\n",
      "140728426072056\n",
      "140728426072056\n"
     ]
    }
   ],
   "source": [
    "#two sring values point at one memory location?\n",
    "str1 = \"Python\"\n",
    "str2 = \"Python\"\n",
    " \n",
    "print(\"\\nMemory location of str1 =\", bin(id(str1)))\n",
    "print(\"Memory location of str2 =\", bin(id(str2)))\n",
    "print()\n",
    "print(\"\\nMemory location of str1 =\", hex(id(str1)))\n",
    "print(\"Memory location of str2 =\", hex(id(str2)))\n",
    "print()\n",
    "print(\"\\nMemory location of str1 =\", oct(id(str1)))\n",
    "print(\"Memory location of str2 =\", oct(id(str2)))\n",
    "print()\n",
    "print(id(str1))\n",
    "print(id(str2))"
   ]
  },
  {
   "cell_type": "code",
   "execution_count": 141,
   "id": "a52bdabc",
   "metadata": {},
   "outputs": [
    {
     "name": "stdout",
     "output_type": "stream",
     "text": [
      "bytearray(b'\\x01\\x02\\x03\\x04\\x05')\n"
     ]
    }
   ],
   "source": [
    "#bytearray\n",
    "l=[1,2,3,4,5]\n",
    "values=bytearray(l)\n",
    "print(values)"
   ]
  },
  {
   "cell_type": "code",
   "execution_count": 149,
   "id": "ad0d44c6",
   "metadata": {},
   "outputs": [
    {
     "name": "stdout",
     "output_type": "stream",
     "text": [
      "234.23\n"
     ]
    }
   ],
   "source": [
    "#limiting the decimals\n",
    "nums=234.23252\n",
    "print(\"%.2f\"%nums)\n"
   ]
  },
  {
   "cell_type": "code",
   "execution_count": 150,
   "id": "43306118",
   "metadata": {},
   "outputs": [
    {
     "name": "stdout",
     "output_type": "stream",
     "text": [
      "as\n"
     ]
    }
   ],
   "source": [
    "#limiitng the string\n",
    "st='asdfassdf'\n",
    "print(\"%.2s\"%st)"
   ]
  },
  {
   "cell_type": "code",
   "execution_count": 154,
   "id": "871efaed",
   "metadata": {},
   "outputs": [
    {
     "name": "stdout",
     "output_type": "stream",
     "text": [
      "varaibale is not defined\n"
     ]
    }
   ],
   "source": [
    "#try, variable is defined or not\n",
    "try:\n",
    "    print(moiz)\n",
    "except NameError:\n",
    "    print(\"varaibale is not defined\")\n",
    "else:\n",
    "    print(\"Variable is defined\")"
   ]
  },
  {
   "cell_type": "code",
   "execution_count": 157,
   "id": "73722b5c",
   "metadata": {},
   "outputs": [
    {
     "name": "stdout",
     "output_type": "stream",
     "text": [
      "[]\n",
      "()\n"
     ]
    }
   ],
   "source": [
    "#emptying the variable without destroying it\n",
    "\n",
    "lisst = [345,3445,344]\n",
    "tuplee= (324,21364,3446)\n",
    "print(type(lisst)())\n",
    "print(type(tuplee)())"
   ]
  },
  {
   "cell_type": "code",
   "execution_count": 158,
   "id": "3535df2c",
   "metadata": {},
   "outputs": [
    {
     "name": "stdout",
     "output_type": "stream",
     "text": [
      "Float value information:  sys.float_info(max=1.7976931348623157e+308, max_exp=1024, max_10_exp=308, min=2.2250738585072014e-308, min_exp=-1021, min_10_exp=-307, dig=15, mant_dig=53, epsilon=2.220446049250313e-16, radix=2, rounds=1)\n",
      "\n",
      "Integer value information:  sys.int_info(bits_per_digit=30, sizeof_digit=4, default_max_str_digits=4300, str_digits_check_threshold=640)\n",
      "\n",
      "Maximum size of an integer:  9223372036854775807\n"
     ]
    }
   ],
   "source": [
    "#info of lastgest and smallest float\n",
    "import sys\n",
    "print(\"Float value information: \",sys.float_info)\n",
    "print(\"\\nInteger value information: \",sys.int_info)\n",
    "print(\"\\nMaximum size of an integer: \",sys.maxsize) "
   ]
  },
  {
   "cell_type": "code",
   "execution_count": 164,
   "id": "1dc496eb",
   "metadata": {},
   "outputs": [
    {
     "name": "stdout",
     "output_type": "stream",
     "text": [
      "<module 'math' (built-in)>\n"
     ]
    }
   ],
   "source": [
    "#importing the module name from the method\n",
    "from inspect import getmodule\n",
    "from math import acos\n",
    "print(getmodule(acos))\n"
   ]
  },
  {
   "cell_type": "code",
   "execution_count": 185,
   "id": "8126e79e",
   "metadata": {},
   "outputs": [
    {
     "name": "stdout",
     "output_type": "stream",
     "text": [
      "Yes\n"
     ]
    }
   ],
   "source": [
    "#checkingwhether an integerfits in 64 bits\n",
    "value=900000000000000\n",
    "\n",
    "if (value.bit_length())<=64:\n",
    "    print(\"Yes\")"
   ]
  },
  {
   "cell_type": "code",
   "execution_count": 196,
   "id": "7d43d391",
   "metadata": {},
   "outputs": [
    {
     "name": "stdout",
     "output_type": "stream",
     "text": [
      "yes\n"
     ]
    }
   ],
   "source": [
    "#are lowerr case letter exists in string?\n",
    "string='KINgOnG'\n",
    "for i in string:\n",
    "    if i.islower():\n",
    "        print(\"yes\")\n",
    "        break"
   ]
  },
  {
   "cell_type": "code",
   "execution_count": 204,
   "id": "fd55e6d4",
   "metadata": {},
   "outputs": [
    {
     "name": "stdout",
     "output_type": "stream",
     "text": [
      "34.3433333\n",
      "4444434.34\n"
     ]
    }
   ],
   "source": [
    "#adding leading and trailing numbers\n",
    "st='34.34'\n",
    "print(st.ljust(10,'3'))\n",
    "print(st.rjust(10,'4'))"
   ]
  },
  {
   "cell_type": "code",
   "execution_count": 205,
   "id": "1b379888",
   "metadata": {},
   "outputs": [
    {
     "name": "stdout",
     "output_type": "stream",
     "text": [
      "{\"ales\": 3, \"king\": 4}\n"
     ]
    }
   ],
   "source": [
    "#use double quotes to displays strings\n",
    "import json\n",
    "print(json.dumps({'ales':3,'king':4}))"
   ]
  },
  {
   "cell_type": "code",
   "execution_count": 208,
   "id": "d4d0b7c1",
   "metadata": {},
   "outputs": [
    {
     "name": "stdout",
     "output_type": "stream",
     "text": [
      "C:\\Users\\moizu\n"
     ]
    }
   ],
   "source": [
    "#print homedirectory without using absolute path\n",
    "import os\n",
    "print(os.path.expanduser('~'))"
   ]
  },
  {
   "cell_type": "code",
   "execution_count": 214,
   "id": "b3570a31",
   "metadata": {},
   "outputs": [
    {
     "name": "stdout",
     "output_type": "stream",
     "text": [
      "12 23\n"
     ]
    }
   ],
   "source": [
    "#input two integers on the sinle line\n",
    "x,y=map(int,input().split())"
   ]
  },
  {
   "cell_type": "code",
   "execution_count": 5,
   "id": "ffebcbc1",
   "metadata": {},
   "outputs": [
    {
     "name": "stdout",
     "output_type": "stream",
     "text": [
      "1\n",
      "0\n"
     ]
    }
   ],
   "source": [
    "#convert True to 1 and False to 0\n",
    "x=True\n",
    "y=False\n",
    "print(int(x))\n",
    "print(int(y))"
   ]
  },
  {
   "cell_type": "code",
   "execution_count": 6,
   "id": "9d5d0d4d",
   "metadata": {},
   "outputs": [
    {
     "name": "stdout",
     "output_type": "stream",
     "text": [
      "Valid_ip\n"
     ]
    }
   ],
   "source": [
    "#validate the ip address\n",
    "import socket\n",
    "address='192.168.0.1'\n",
    "try:\n",
    "    socket.inet_aton(address)\n",
    "    print(\"Valid_ip\")\n",
    "except socket.error:\n",
    "    print(\"Invalid IP\")"
   ]
  },
  {
   "cell_type": "code",
   "execution_count": 10,
   "id": "dcd9f949",
   "metadata": {},
   "outputs": [
    {
     "name": "stdout",
     "output_type": "stream",
     "text": [
      "00000000000000001010\n"
     ]
    }
   ],
   "source": [
    "#integer to binary that keeps leading to zeros\n",
    "num=10\n",
    "print(format(num,'020b'))"
   ]
  },
  {
   "cell_type": "code",
   "execution_count": 15,
   "id": "d5da366a",
   "metadata": {},
   "outputs": [
    {
     "name": "stdout",
     "output_type": "stream",
     "text": [
      "0001e\n"
     ]
    }
   ],
   "source": [
    "#converting decimal to hexadecimal\n",
    "nums=2\n",
    "print(format(x,'05x'))"
   ]
  },
  {
   "cell_type": "code",
   "execution_count": 4,
   "id": "a0ecc2f4",
   "metadata": {},
   "outputs": [
    {
     "name": "stdout",
     "output_type": "stream",
     "text": [
      "<function processor at 0x0000028710AC3010>\n"
     ]
    }
   ],
   "source": [
    "import os,sys,platform\n",
    "print(platform.architecture())"
   ]
  },
  {
   "cell_type": "code",
   "execution_count": 1,
   "id": "a3e97deb",
   "metadata": {},
   "outputs": [],
   "source": [
    "#format of data types\n",
    "#tuple=(1,2,3,'asddfasd',2.3)\n",
    "#list=[234,2.323,'addff',[123,34],3]\n",
    "#dict={'234':23,'234':23}\n"
   ]
  }
 ],
 "metadata": {
  "kernelspec": {
   "display_name": "Python 3 (ipykernel)",
   "language": "python",
   "name": "python3"
  },
  "language_info": {
   "codemirror_mode": {
    "name": "ipython",
    "version": 3
   },
   "file_extension": ".py",
   "mimetype": "text/x-python",
   "name": "python",
   "nbconvert_exporter": "python",
   "pygments_lexer": "ipython3",
   "version": "3.10.7"
  }
 },
 "nbformat": 4,
 "nbformat_minor": 5
}
