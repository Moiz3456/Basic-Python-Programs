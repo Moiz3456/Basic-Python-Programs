{
 "cells": [
  {
   "cell_type": "markdown",
   "id": "d113f3f5",
   "metadata": {},
   "source": [
    "##### Below are the examples taken from a book to practice and get an understanding of how classes work"
   ]
  },
  {
   "cell_type": "markdown",
   "id": "0e5c018c",
   "metadata": {},
   "source": [
    "1. Using the classmethod class (do it in the standard way) implement a class\n",
    "named Person that has a class method named show_details() which displays\n",
    "the following text to the console:\n"
   ]
  },
  {
   "cell_type": "code",
   "execution_count": 9,
   "id": "8caab06e",
   "metadata": {},
   "outputs": [
    {
     "name": "stdout",
     "output_type": "stream",
     "text": [
      "Running from Person class.\n"
     ]
    }
   ],
   "source": [
    "class Person:\n",
    "    def show_details(cls):\n",
    "        print(f\"Running from {cls.__name__} class.\")\n",
    "    show_details=classmethod(show_details)\n",
    "    \n",
    "Person.show_details()\n",
    "              "
   ]
  },
  {
   "cell_type": "markdown",
   "id": "ce3d0258",
   "metadata": {},
   "source": [
    "2. Using the classmethod class (do it in the standard way) implement a\n",
    "class named Person that has a class method named show_details() which\n",
    "displays the following text to the console:"
   ]
  },
  {
   "cell_type": "code",
   "execution_count": 12,
   "id": "79f8b50f",
   "metadata": {},
   "outputs": [
    {
     "name": "stdout",
     "output_type": "stream",
     "text": [
      "Running from Container class.\n"
     ]
    }
   ],
   "source": [
    "class Container:\n",
    "    @classmethod\n",
    "    def show_details(cls):\n",
    "        print(f\"Running from {cls.__name__} class.\")\n",
    "\n",
    "Container.show_details()"
   ]
  },
  {
   "cell_type": "markdown",
   "id": "ff682b26",
   "metadata": {},
   "source": [
    "3. The Container class is given. Create an instance of this class named\n",
    "container and call the show_details( ) method from this instance."
   ]
  },
  {
   "cell_type": "code",
   "execution_count": 13,
   "id": "a7f3143c",
   "metadata": {},
   "outputs": [
    {
     "name": "stdout",
     "output_type": "stream",
     "text": [
      "Running from Container class.\n"
     ]
    }
   ],
   "source": [
    "class Container:\n",
    "    @classmethod\n",
    "    def show_details(cls):\n",
    "        print(f\"Running from {cls.__name__} class.\")\n",
    "\n",
    "container=Container()\n",
    "container.show_details()"
   ]
  },
  {
   "cell_type": "markdown",
   "id": "c6a2bed5",
   "metadata": {},
   "source": [
    "4. Implement a class named Person which has a class attribute named\n",
    "instances as an empty list. Then, each time you create an instance of the\n",
    "Person class, add it to the Person.instances list (use the\n",
    "init () method for this).\n",
    "Also implement a class method called count_instances( ) that returns\n",
    "the number of Person objects created (the number of items in the\n",
    "Person.instances list).\n",
    "Create three instances of the Person class. Then call the\n",
    "count_instances( ) class method and print result to the console."
   ]
  },
  {
   "cell_type": "code",
   "execution_count": 16,
   "id": "34dc2d41",
   "metadata": {},
   "outputs": [
    {
     "name": "stdout",
     "output_type": "stream",
     "text": [
      "3\n"
     ]
    }
   ],
   "source": [
    "class Person:\n",
    "    instances=[]\n",
    "    def __init__(self):\n",
    "        Person.instances.append(self)\n",
    "    @classmethod\n",
    "    def count_instances(cls):\n",
    "        return len(Person.instances)\n",
    "p1=Person()\n",
    "p2=Person()\n",
    "p3=Person()\n",
    "print(Person.count_instances())"
   ]
  },
  {
   "cell_type": "markdown",
   "id": "499803c9",
   "metadata": {},
   "source": [
    "5. A class named Person is given. Modify the _init() method so that you\n",
    "can set two\n",
    "instance attributes: firstname and lastname (bare attributes, without any\n",
    "validation).\n",
    "Create two instances of the Person class. Then call the\n",
    "count_instances() class method and print result to the console"
   ]
  },
  {
   "cell_type": "code",
   "execution_count": 21,
   "id": "c6b12f0e",
   "metadata": {},
   "outputs": [
    {
     "name": "stdout",
     "output_type": "stream",
     "text": [
      "2\n"
     ]
    }
   ],
   "source": [
    "class Person:\n",
    "    instances=[]\n",
    "    def __init__(self,firstname,lastname):\n",
    "        self.firstname=firstname\n",
    "        self.lastname=lastname\n",
    "        Person.instances.append(self)\n",
    "        \n",
    "    @classmethod\n",
    "    def count_instances(cls):\n",
    "        return len(Person.instances)\n",
    "    \n",
    "    \n",
    "person1=Person(\"mike\",\"tyson\")\n",
    "person2=Person(\"life\",\"boy\")\n",
    "print(person1.count_instances())"
   ]
  },
  {
   "cell_type": "markdown",
   "id": "526569e7",
   "metadata": {},
   "source": [
    "6. Define a Container class that has a static method (use the\n",
    "staticmethod class - do it in the standard way) named get_current_time(\n",
    ") returning the current time in the format\n",
    "‘ %H : %M : %S ' , e.g. '09:45:10' .\n"
   ]
  },
  {
   "cell_type": "code",
   "execution_count": 41,
   "id": "b954a70a",
   "metadata": {},
   "outputs": [
    {
     "name": "stdout",
     "output_type": "stream",
     "text": [
      "12:55:15\n"
     ]
    }
   ],
   "source": [
    "import time\n",
    "    \n",
    "class Container:\n",
    "    @staticmethod\n",
    "    def current_time():\n",
    "        return time.strftime(\"%H:%M:%S\",time.localtime())\n",
    "\n",
    "current_time=Container.current_time()\n",
    "print(current_time)"
   ]
  },
  {
   "cell_type": "raw",
   "id": "08b16a40",
   "metadata": {},
   "source": [
    "Complete the implementation of the Book class. In the _init_ ( )\n",
    "method, set the bare attributes of the instance with names:\n",
    "• title\n",
    "• author\n",
    "• book_id\n",
    "Set the instance book_id attribute using the uuid module. Exactly the\n",
    "uuid. uuid4( ) function from this module. An example of using this\n",
    "function:\n"
   ]
  },
  {
   "cell_type": "code",
   "execution_count": 55,
   "id": "2f0017b6",
   "metadata": {},
   "outputs": [
    {
     "name": "stdout",
     "output_type": "stream",
     "text": [
      "dict_values(['20', 'OOPS Volume2', 'Rahul'])\n",
      "dict_keys(['book_id', 'title', 'author'])\n"
     ]
    }
   ],
   "source": [
    "import uuid\n",
    "class Book:\n",
    "    def __init__(self,title,author):\n",
    "        self.book_id=self.get_id()\n",
    "        self.title=title\n",
    "        self.author=author\n",
    "        \n",
    "    @staticmethod\n",
    "    def get_id():\n",
    "        return str(uuid.uuid4().fields[-1])[:2]\n",
    "\n",
    "book1=Book(\"OOPS Volume2\",\"Rahul\")\n",
    "print(book1.__dict__.values())\n",
    "print(book1.__dict__.keys())"
   ]
  },
  {
   "cell_type": "markdown",
   "id": "b2f713ba",
   "metadata": {},
   "source": [
    "The Book class is implemented. Add a _repr_( ) method to the Book class\n",
    "that represents an instance of this class.\n",
    "Then create an instance of the class named book 1 passing the following\n",
    "arguments:\n",
    "• title= ‘Python Object Oriented Programming Exercises Volume 2'\n",
    "• author='Edcorner Learning'\n",
    "In response, print the instance book1 to the console."
   ]
  },
  {
   "cell_type": "code",
   "execution_count": 59,
   "id": "d1f13dc1",
   "metadata": {},
   "outputs": [
    {
     "name": "stdout",
     "output_type": "stream",
     "text": [
      "Book(title='OOPS',author='ravi')\n"
     ]
    }
   ],
   "source": [
    "import uuid\n",
    "class Book:\n",
    "    def __init__(self,title,author):\n",
    "        self.book_id=self.get_id()\n",
    "        self.title=title\n",
    "        self.author=author\n",
    "    \n",
    "    def __repr__(self):\n",
    "        return f\"Book(title='{self.title}',author='{self.author}')\"\n",
    "    \n",
    "    @staticmethod\n",
    "    def get_id():\n",
    "        return str(uuid.uuid4().fields[-1])[:6]\n",
    "    \n",
    "book1=Book('OOPS',author='ravi')\n",
    "print(book1)"
   ]
  },
  {
   "cell_type": "markdown",
   "id": "fcf111fc",
   "metadata": {},
   "source": [
    " Define a Person class that takes two bare attributes: fname (first\n",
    "name) and Iname (last name).\n",
    "Then implement the _repr_ ( ) special method to display a\n",
    "formal representation of the\n",
    "Person object "
   ]
  },
  {
   "cell_type": "code",
   "execution_count": 61,
   "id": "28bff8e3",
   "metadata": {},
   "outputs": [
    {
     "name": "stdout",
     "output_type": "stream",
     "text": [
      "Person(fname='Mike',lname='Tyson')\n"
     ]
    }
   ],
   "source": [
    "class Person:\n",
    "    def __init__(self,fname,lname):\n",
    "        self.fname=fname\n",
    "        self.lname=lname\n",
    "    def __repr__(self):\n",
    "        return f\"Person(fname='{self.fname}',lname='{self.lname}')\"\n",
    "\n",
    "person=Person(\"Mike\",\"Tyson\")\n",
    "print(person)\n",
    "    "
   ]
  },
  {
   "cell_type": "code",
   "execution_count": 63,
   "id": "207deb9f",
   "metadata": {},
   "outputs": [
    {
     "name": "stdout",
     "output_type": "stream",
     "text": [
      "First Name:Mike\n",
      "Last Name:Tyson\n"
     ]
    }
   ],
   "source": [
    "class Person:\n",
    "    def __init__(self,fname,lname):\n",
    "        self.fname=fname\n",
    "        self.lname=lname\n",
    "    def __repr__(self):\n",
    "        return f\"Person(fname='{self.fname}',lname='{self.lname}')\"\n",
    "    def __str__(self):\n",
    "        return f\"First Name:{self.fname}\\nLast Name:{self.lname}\"\n",
    "\n",
    "person=Person(\"Mike\",\"Tyson\")\n",
    "print(person)\n",
    "    "
   ]
  },
  {
   "cell_type": "markdown",
   "id": "2fb16756",
   "metadata": {},
   "source": [
    "Implement a class named Vector which, when creating an instance\n",
    "takes any number of arguments (vector coordinates in n-dimensional\n",
    "space - without any validation) and assign it to an attribute named\n",
    "components.\n",
    "Then implement the _repr_( ) special method to display a formal\n",
    "representation "
   ]
  },
  {
   "cell_type": "code",
   "execution_count": 64,
   "id": "4e8e5ef1",
   "metadata": {},
   "outputs": [
    {
     "name": "stdout",
     "output_type": "stream",
     "text": [
      "Vector (1, 2, 34, 5)\n"
     ]
    }
   ],
   "source": [
    "class Vector:\n",
    "    def __init__(self,*components):\n",
    "        self.components=components\n",
    "    def __repr__(self):\n",
    "        return f\"Vector {self.components}\"\n",
    "\n",
    "v1=Vector(1,2,34,5)\n",
    "print(v1)"
   ]
  },
  {
   "cell_type": "code",
   "execution_count": 71,
   "id": "1806a64d",
   "metadata": {},
   "outputs": [
    {
     "name": "stdout",
     "output_type": "stream",
     "text": [
      "(1, 2, 34, 5)\n",
      "4\n"
     ]
    }
   ],
   "source": [
    "class Vector:\n",
    "    def __init__(self,*components):\n",
    "        self.components=components\n",
    "    def __repr__(self):\n",
    "        return f\"Vector {self.components}\"\n",
    "    def __str__(self):\n",
    "        return f\"{self.components}\"\n",
    "    def __len__(self):\n",
    "        return len(self.components)\n",
    "\n",
    "v1=Vector(1,2,34,5)\n",
    "print(v1)\n",
    "print(len(v1))"
   ]
  },
  {
   "cell_type": "markdown",
   "id": "1c1023fb",
   "metadata": {},
   "source": [
    "An implementation of the Vector class is given. Implement the\n",
    "_bool_( ) special method to return the logical value of vector:\n",
    "• False in case the first coordinate is zero\n",
    "• on the contrary True\n",
    "If the user doesn't pass any argument, return the logical value False."
   ]
  },
  {
   "cell_type": "code",
   "execution_count": 77,
   "id": "5da9a06a",
   "metadata": {},
   "outputs": [
    {
     "name": "stdout",
     "output_type": "stream",
     "text": [
      "False True\n",
      "False\n"
     ]
    }
   ],
   "source": [
    "class Vector:\n",
    "    def __init__(self,*components):\n",
    "        self.components=components\n",
    "    def __bool__(self):\n",
    "        if not self.components:\n",
    "            return False\n",
    "        return False if not self.components[0] else True\n",
    "    \n",
    "    \n",
    "v1=Vector()\n",
    "v2=Vector(3,2)\n",
    "print(bool(v1),bool(v2))\n",
    "v3=Vector(0,1,2)\n",
    "print(bool(v3))\n"
   ]
  },
  {
   "cell_type": "markdown",
   "id": "c8b67690",
   "metadata": {},
   "source": [
    "An implementation of the Vector class is given. Create the following\n",
    "instances of this class:\n",
    "• vl = Vector(4, 2)\n",
    "• v2 = Vector(-l, 3)\n",
    "Then try to add these instances, i.e. perform the operation v1 + v2 . If there is\n",
    "an error, print the error message to the console. Use a try ... except ... clause\n",
    "in your solution"
   ]
  },
  {
   "cell_type": "code",
   "execution_count": 80,
   "id": "ec8c36df",
   "metadata": {},
   "outputs": [
    {
     "name": "stdout",
     "output_type": "stream",
     "text": [
      "Error\n"
     ]
    }
   ],
   "source": [
    "class Vector:\n",
    "    def __init__(self,*components):\n",
    "        self.components=components\n",
    "v1=Vector(1,2)\n",
    "v2=Vector(3,4)\n",
    "try:\n",
    "    v1+v2\n",
    "except TypeError:\n",
    "    print(\"Error\")"
   ]
  },
  {
   "cell_type": "markdown",
   "id": "fc505d1b",
   "metadata": {},
   "source": [
    "An implementation of the Vector class is given. Implement the _add_( ) special method to\n",
    "add Vector instances (by coordinates). For simplicity, assume that the user adds vectors of the same\n",
    "length. Then create two instances of the Vector class"
   ]
  },
  {
   "cell_type": "code",
   "execution_count": 95,
   "id": "b9e3a18b",
   "metadata": {},
   "outputs": [
    {
     "name": "stdout",
     "output_type": "stream",
     "text": [
      "(3, 7)\n"
     ]
    }
   ],
   "source": [
    "class Vector:\n",
    "    def __init__(self,*components):\n",
    "        self.components=components\n",
    "    def __str__(self):\n",
    "        return f\"{self.components}\"\n",
    "    def __add__(self,other):\n",
    "        components=tuple(x+y for x,y in zip(self.components,other.components))\n",
    "        return Vector(*components)\n",
    "v1=Vector(1,3)\n",
    "v2=Vector(2,4)\n",
    "print(v1+v2)"
   ]
  },
  {
   "cell_type": "code",
   "execution_count": 96,
   "id": "d982187b",
   "metadata": {},
   "outputs": [
    {
     "name": "stdout",
     "output_type": "stream",
     "text": [
      "(-1, -1)\n"
     ]
    }
   ],
   "source": [
    "class Vector:\n",
    "    def __init__(self,*components):\n",
    "        self.components=components\n",
    "    def __str__(self):\n",
    "        return f\"{self.components}\"\n",
    "    def __sub__(self,other):\n",
    "        components=tuple(x-y for x,y in zip(self.components,other.components))\n",
    "        return Vector(*components)\n",
    "v1=Vector(1,3)\n",
    "v2=Vector(2,4)\n",
    "print(v1-v2)"
   ]
  },
  {
   "cell_type": "code",
   "execution_count": 97,
   "id": "bf4084dc",
   "metadata": {},
   "outputs": [
    {
     "name": "stdout",
     "output_type": "stream",
     "text": [
      "(2, 12)\n"
     ]
    }
   ],
   "source": [
    "class Vector:\n",
    "    def __init__(self,*components):\n",
    "        self.components=components\n",
    "    def __str__(self):\n",
    "        return f\"{self.components}\"\n",
    "    def __mul__(self,other):\n",
    "        components=tuple(x*y for x,y in zip(self.components,other.components))\n",
    "        return Vector(*components)\n",
    "v1=Vector(1,3)\n",
    "v2=Vector(2,4)\n",
    "print(v1*v2)"
   ]
  },
  {
   "cell_type": "code",
   "execution_count": 100,
   "id": "184eab48",
   "metadata": {},
   "outputs": [
    {
     "name": "stdout",
     "output_type": "stream",
     "text": [
      "(0.5, 0.75)\n"
     ]
    }
   ],
   "source": [
    "class Vector:\n",
    "    def __init__(self,*components):\n",
    "        self.components=components\n",
    "    def __str__(self):\n",
    "        return f\"{self.components}\"\n",
    "    def __truediv__(self,other):\n",
    "        components=tuple(x/y for x,y in zip(self.components,other.components))\n",
    "        return Vector(*components)\n",
    "v1=Vector(1,3)\n",
    "v2=Vector(2,4)\n",
    "print(v1/v2)"
   ]
  },
  {
   "cell_type": "code",
   "execution_count": 103,
   "id": "7ce9a3a0",
   "metadata": {},
   "outputs": [
    {
     "name": "stdout",
     "output_type": "stream",
     "text": [
      "(2, 41)\n"
     ]
    }
   ],
   "source": [
    "class Vector:\n",
    "    def __init__(self,*components):\n",
    "        self.components=components\n",
    "    def __str__(self):\n",
    "        return f\"{self.components}\"\n",
    "    def __floordiv__(self,other):\n",
    "        components=tuple(x//y for x,y in zip(self.components,other.components))\n",
    "        return Vector(*components)\n",
    "v1=Vector(5,166)\n",
    "v2=Vector(2,4)\n",
    "print(v1//v2)"
   ]
  },
  {
   "cell_type": "markdown",
   "id": "ef9fb3fe",
   "metadata": {},
   "source": [
    "Adding Hashtag to every word"
   ]
  },
  {
   "cell_type": "code",
   "execution_count": 121,
   "id": "a29f286d",
   "metadata": {},
   "outputs": [
    {
     "name": "stdout",
     "output_type": "stream",
     "text": [
      "True\n"
     ]
    }
   ],
   "source": [
    "class Hashtag:\n",
    "    def __init__(self,string):\n",
    "        self.string='#'+string\n",
    "    def __repr__(self):\n",
    "        return f\"Hashtag(string='{self.string}')\"\n",
    "    def __str__(self):\n",
    "        return f\"{self.string}\"\n",
    "    def __add__(self,other):\n",
    "        return Hashtag(self.string[1:]+' '+other.string)\n",
    "    def __eq__(self,other):\n",
    "        return self.string==other.string\n",
    "hashtag1=Hashtag(\"python\")\n",
    "hashtag2=Hashtag(\"python\")\n",
    "hashtag3=Hashtag(\"Expert\")\n",
    "print(hashtag1==hashtag2)"
   ]
  },
  {
   "cell_type": "code",
   "execution_count": 124,
   "id": "b2db1c18",
   "metadata": {},
   "outputs": [
    {
     "name": "stdout",
     "output_type": "stream",
     "text": [
      "True\n"
     ]
    }
   ],
   "source": [
    "class Hashtag:\n",
    "    def __init__(self,string):\n",
    "        self.string='#'+string\n",
    "    def __repr__(self):\n",
    "        return f\"Hashtag(string='{self.string}')\"\n",
    "    def __str__(self):\n",
    "        return f\"{self.string}\"\n",
    "    def __add__(self,other):\n",
    "        return Hashtag(self.string[1:]+' '+other.string)\n",
    "    def __lt__(self,other):\n",
    "        return len(self.string)<len(other.string)\n",
    "hashtag1=Hashtag(\"ython\")\n",
    "hashtag2=Hashtag(\"python\")\n",
    "hashtag3=Hashtag(\"Expert\")\n",
    "print(hashtag1<hashtag2)"
   ]
  },
  {
   "cell_type": "code",
   "execution_count": 130,
   "id": "1f31ed8f",
   "metadata": {},
   "outputs": [
    {
     "name": "stdout",
     "output_type": "stream",
     "text": [
      "True\n"
     ]
    }
   ],
   "source": [
    "class Hashtag:\n",
    "    def __init__(self,string):\n",
    "        self.string='#'+string\n",
    "    def __repr__(self):\n",
    "        return f\"Hashtag(string='{self.string}')\"\n",
    "    def __str__(self):\n",
    "        return f\"{self.string}\"\n",
    "    def __add__(self,other):\n",
    "        return Hashtag(self.string[1:]+' '+other.string)\n",
    "    def __gt__(self,other):\n",
    "        return len(self.string)>len(other.string)\n",
    "hashtag1=Hashtag(\"ython\")\n",
    "hashtag2=Hashtag(\"pythonee\")\n",
    "hashtag3=Hashtag(\"Expert\")\n",
    "print(hashtag2>hashtag3)"
   ]
  },
  {
   "cell_type": "code",
   "execution_count": 131,
   "id": "98d93b1a",
   "metadata": {},
   "outputs": [
    {
     "name": "stdout",
     "output_type": "stream",
     "text": [
      "True\n"
     ]
    }
   ],
   "source": [
    "class Hashtag:\n",
    "    def __init__(self,string):\n",
    "        self.string='#'+string\n",
    "    def __repr__(self):\n",
    "        return f\"Hashtag(string='{self.string}')\"\n",
    "    def __str__(self):\n",
    "        return f\"{self.string}\"\n",
    "    def __add__(self,other):\n",
    "        return Hashtag(self.string[1:]+' '+other.string)\n",
    "    def __ge__(self,other):\n",
    "        return len(self.string)>=len(other.string)\n",
    "hashtag1=Hashtag(\"ython\")\n",
    "hashtag2=Hashtag(\"python\")\n",
    "hashtag3=Hashtag(\"Expert\")\n",
    "print(hashtag2>=hashtag3)"
   ]
  },
  {
   "cell_type": "markdown",
   "id": "000dce07",
   "metadata": {},
   "source": [
    "Inheriting one class from other class\n"
   ]
  },
  {
   "cell_type": "code",
   "execution_count": 142,
   "id": "cc655e84",
   "metadata": {},
   "outputs": [
    {
     "name": "stdout",
     "output_type": "stream",
     "text": [
      "True\n",
      "True\n",
      "False\n"
     ]
    }
   ],
   "source": [
    "class Container:\n",
    "    pass\n",
    "class Emptycontainer(Container):\n",
    "    pass\n",
    "class Metalcontainer(Container):\n",
    "    pass\n",
    "class Customcontainer:\n",
    "    pass\n",
    "\n",
    "print(issubclass(Emptycontainer,Container))\n",
    "print(issubclass(Metalcontainer,Container))\n",
    "print(issubclass(Customcontainer,Container))"
   ]
  },
  {
   "cell_type": "code",
   "execution_count": 153,
   "id": "815197fe",
   "metadata": {},
   "outputs": [
    {
     "name": "stdout",
     "output_type": "stream",
     "text": [
      "brand->BMW\n",
      "color->Red\n",
      "year->2020\n",
      "horsepower->350\n",
      "None\n"
     ]
    }
   ],
   "source": [
    "class Vehicle:\n",
    "    def __init__(self,brand,color,year):\n",
    "        self.brand=brand\n",
    "        self.color=color\n",
    "        self.year=year\n",
    "    def display_attrs(self):\n",
    "        for attr,value in self.__dict__.items():\n",
    "            print(f'{attr}->{value}')\n",
    "        \n",
    "class Car(Vehicle):\n",
    "    def __init__(self,brand,color,year,horsepower):\n",
    "        super().__init__(brand,color,year)\n",
    "        self.horsepower=horsepower\n",
    "      \n",
    "car=Car(\"BMW\",\"Red\",2020,350)\n",
    "print(car.display_attrs())"
   ]
  },
  {
   "cell_type": "markdown",
   "id": "77093185",
   "metadata": {},
   "source": [
    "Samples of Inheritance\n"
   ]
  },
  {
   "cell_type": "code",
   "execution_count": 154,
   "id": "a0ff2a48",
   "metadata": {},
   "outputs": [
    {
     "name": "stdout",
     "output_type": "stream",
     "text": [
      "(-25.0, 25.0)\n"
     ]
    }
   ],
   "source": [
    "class Container:\n",
    "    category=\"general purpose\"\n",
    "class TemperatureControlledContainer(Container):\n",
    "    temp_range=(-25.0,25.0)\n",
    "class RefrigeratredContainer(TemperatureControlledContainer):\n",
    "    temp_range=(-25.0,25.0)\n",
    "    \n",
    "    \n",
    "print(getattr(RefrigeratredContainer,'temp_range'))"
   ]
  },
  {
   "cell_type": "code",
   "execution_count": 157,
   "id": "80af60d4",
   "metadata": {},
   "outputs": [
    {
     "name": "stdout",
     "output_type": "stream",
     "text": [
      "{'firstname': 'king', 'lastname': 'Kong', 'age': 34}\n"
     ]
    }
   ],
   "source": [
    "class Person:\n",
    "    def __init__(self,firstname,lastname,age):\n",
    "        self.firstname=firstname\n",
    "        self.lastname=lastname\n",
    "        self.age=age\n",
    "class Department:\n",
    "    pass\n",
    "class Worker(Person,Department):\n",
    "    pass\n",
    "worker=Worker(\"king\",'Kong',34)\n",
    "print(worker.__dict__)"
   ]
  },
  {
   "cell_type": "code",
   "execution_count": 159,
   "id": "0053328a",
   "metadata": {},
   "outputs": [
    {
     "name": "stdout",
     "output_type": "stream",
     "text": [
      "{'firstname': 'King', 'lastname': 'kong', 'age': 34, 'deptname': 'Infromation TEchnolgoy', 'short_deptname': 'IT'}\n"
     ]
    }
   ],
   "source": [
    "class Person:\n",
    "    def __init__(self,firstname,lastname,age):\n",
    "        self.firstname=firstname\n",
    "        self.lastname=lastname\n",
    "        self.age=age\n",
    "class Department:\n",
    "    def __init__(self,deptname,short_deptname):\n",
    "        self.deptname=deptname\n",
    "        self.short_deptname=short_deptname\n",
    "class Worker(Person,Department):\n",
    "    def __init__(self,firstname,lastname,age,deptname,short_deptname):\n",
    "        Person.__init__(self,firstname,lastname,age)\n",
    "        Department.__init__(self,deptname,short_deptname)\n",
    "\n",
    "worker=Worker(\"King\",\"kong\",34,\"Infromation TEchnolgoy\",'IT')\n",
    "print(worker.__dict__)"
   ]
  },
  {
   "cell_type": "markdown",
   "id": "594ac067",
   "metadata": {},
   "source": [
    "Below are the samples of abstract class"
   ]
  },
  {
   "cell_type": "code",
   "execution_count": 163,
   "id": "ed6a2d6c",
   "metadata": {},
   "outputs": [
    {
     "ename": "NameError",
     "evalue": "name 'error' is not defined",
     "output_type": "error",
     "traceback": [
      "\u001b[1;31m---------------------------------------------------------------------------\u001b[0m",
      "\u001b[1;31mTypeError\u001b[0m                                 Traceback (most recent call last)",
      "Cell \u001b[1;32mIn[163], line 14\u001b[0m\n\u001b[0;32m     13\u001b[0m \u001b[38;5;28;01mtry\u001b[39;00m:\n\u001b[1;32m---> 14\u001b[0m     \u001b[43mFigure\u001b[49m\u001b[43m(\u001b[49m\u001b[43m)\u001b[49m\n\u001b[0;32m     15\u001b[0m \u001b[38;5;28;01mexcept\u001b[39;00m \u001b[38;5;167;01mTypeError\u001b[39;00m:\n",
      "\u001b[1;31mTypeError\u001b[0m: Can't instantiate abstract class Figure with abstract method area",
      "\nDuring handling of the above exception, another exception occurred:\n",
      "\u001b[1;31mNameError\u001b[0m                                 Traceback (most recent call last)",
      "Cell \u001b[1;32mIn[163], line 16\u001b[0m\n\u001b[0;32m     14\u001b[0m     Figure()\n\u001b[0;32m     15\u001b[0m \u001b[38;5;28;01mexcept\u001b[39;00m \u001b[38;5;167;01mTypeError\u001b[39;00m:\n\u001b[1;32m---> 16\u001b[0m     \u001b[38;5;28mprint\u001b[39m(\u001b[43merror\u001b[49m)\n",
      "\u001b[1;31mNameError\u001b[0m: name 'error' is not defined"
     ]
    }
   ],
   "source": [
    "from abc import ABC,abstractmethod\n",
    "class Figure(ABC):\n",
    "    \n",
    "    @abstractmethod\n",
    "    def area(self):\n",
    "        pass\n",
    "class Square(Figure):\n",
    "    def __init__(self,a):\n",
    "        self.a=a\n",
    "    def area(self):\n",
    "        return self.a*self.a\n",
    "    \n",
    "try:\n",
    "    Figure()\n",
    "except TypeError:\n",
    "    print(error)"
   ]
  },
  {
   "cell_type": "code",
   "execution_count": 164,
   "id": "c95c863e",
   "metadata": {},
   "outputs": [
    {
     "name": "stdout",
     "output_type": "stream",
     "text": [
      "error\n"
     ]
    }
   ],
   "source": [
    "from abc import ABC,abstractmethod\n",
    "class Figure(ABC):\n",
    "    \n",
    "    @abstractmethod\n",
    "    def area(self):\n",
    "        pass\n",
    "class Square(Figure):\n",
    "    def __init__(self,a):\n",
    "        self.a=a\n",
    "    def area(self):\n",
    "        return self.a*self.a\n",
    "    \n",
    "try:\n",
    "    Figure()\n",
    "except TypeError:\n",
    "    print('error')"
   ]
  },
  {
   "cell_type": "markdown",
   "id": "25c91a4a",
   "metadata": {},
   "source": [
    "Examples of tax payers\n"
   ]
  },
  {
   "cell_type": "code",
   "execution_count": 167,
   "id": "5adb575c",
   "metadata": {},
   "outputs": [
    {
     "name": "stdout",
     "output_type": "stream",
     "text": [
      "5000.0\n"
     ]
    }
   ],
   "source": [
    "from abc import ABC,abstractmethod\n",
    "class Taxpayer(ABC):\n",
    "    def __init__(self,salary):\n",
    "        self.salary=salary\n",
    "    \n",
    "    @abstractmethod\n",
    "    def calculate_tax(self):\n",
    "        pass\n",
    "class StudentTaxPayer(Taxpayer):\n",
    "    def calculate_tax(self):\n",
    "        return self.salary*0.15\n",
    "class DisabledTaxPaer(Taxpayer):\n",
    "    def calculate_tax(self):\n",
    "        return min(self.salary*0.12,5000.0)\n",
    "disabled=DisabledTaxPaer(50000)\n",
    "print(disabled.calculate_tax())"
   ]
  },
  {
   "cell_type": "code",
   "execution_count": 171,
   "id": "90c1ec46",
   "metadata": {},
   "outputs": [
    {
     "name": "stdout",
     "output_type": "stream",
     "text": [
      "11900.0\n",
      "18400.0\n"
     ]
    }
   ],
   "source": [
    "from abc import ABC,abstractmethod\n",
    "class Taxpayer(ABC):\n",
    "    def __init__(self,salary):\n",
    "        self.salary=salary\n",
    "    \n",
    "    @abstractmethod\n",
    "    def calculate_tax(self):\n",
    "        pass\n",
    "class StudentTaxPayer(Taxpayer):\n",
    "    def calculate_tax(self):\n",
    "        return self.salary*0.15\n",
    "class DisabledTaxPaer(Taxpayer):\n",
    "    def calculate_tax(self):\n",
    "        return min(self.salary*0.12,5000.0)\n",
    "    \n",
    "class WorkerTaxPayer(Taxpayer):\n",
    "    def calculate_tax(self):\n",
    "        if self.salary<80000:\n",
    "            return self.salary*0.17\n",
    "        else:\n",
    "            return 80000*0.17+(self.salary-80000)*0.32\n",
    "\n",
    "workertaxpayer1=WorkerTaxPayer(70000)\n",
    "print(workertaxpayer1.calculate_tax())\n",
    "workertaxpayer2=WorkerTaxPayer(95000)\n",
    "print(workertaxpayer2.calculate_tax())\n"
   ]
  },
  {
   "cell_type": "markdown",
   "id": "50fdb4f1",
   "metadata": {},
   "source": [
    "Sorting based on age"
   ]
  },
  {
   "cell_type": "code",
   "execution_count": 173,
   "id": "43361d37",
   "metadata": {},
   "outputs": [
    {
     "name": "stdout",
     "output_type": "stream",
     "text": [
      "Tom->25\n",
      "Mike->27\n",
      "John->29\n",
      "Alice->34\n"
     ]
    }
   ],
   "source": [
    "class Person:\n",
    "    def __init__(self,name,age):\n",
    "        self.name=name\n",
    "        self.age=age\n",
    "\n",
    "people=[Person('Tom',25),Person('John',29),Person('Mike',27),Person(\"Alice\",34)]\n",
    "people.sort(key=lambda person:person.age)\n",
    "\n",
    "for i in people:\n",
    "    print(f'{i.name}->{i.age}')\n",
    "    "
   ]
  },
  {
   "cell_type": "code",
   "execution_count": null,
   "id": "f3e35c2a",
   "metadata": {},
   "outputs": [],
   "source": []
  }
 ],
 "metadata": {
  "kernelspec": {
   "display_name": "Python 3 (ipykernel)",
   "language": "python",
   "name": "python3"
  },
  "language_info": {
   "codemirror_mode": {
    "name": "ipython",
    "version": 3
   },
   "file_extension": ".py",
   "mimetype": "text/x-python",
   "name": "python",
   "nbconvert_exporter": "python",
   "pygments_lexer": "ipython3",
   "version": "3.11.4"
  }
 },
 "nbformat": 4,
 "nbformat_minor": 5
}
