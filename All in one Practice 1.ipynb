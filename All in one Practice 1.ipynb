{
 "cells": [
  {
   "cell_type": "markdown",
   "id": "1dbc2077",
   "metadata": {},
   "source": [
    "###### Extraction of digits"
   ]
  },
  {
   "cell_type": "code",
   "execution_count": 7,
   "id": "8255126d",
   "metadata": {},
   "outputs": [
    {
     "name": "stdout",
     "output_type": "stream",
     "text": [
      "1 2 3 2 1 3 1\n",
      "2\n",
      "3\n",
      "2\n",
      "1\n",
      "3\n"
     ]
    }
   ],
   "source": [
    "num=123213\n",
    "for i in str(num):\n",
    "    print(i,end=' ')\n",
    "'\\n'\n",
    "for i in str(num):\n",
    "    print(i)"
   ]
  },
  {
   "cell_type": "code",
   "execution_count": 4,
   "id": "8937224c",
   "metadata": {},
   "outputs": [
    {
     "name": "stdout",
     "output_type": "stream",
     "text": [
      "6 4 5 6 "
     ]
    }
   ],
   "source": [
    "def number_extraction(num):\n",
    "    while num>0:\n",
    "        digit=num%10\n",
    "        num=num//10\n",
    "        print(digit,end=' ')\n",
    "number_extraction(6546)"
   ]
  },
  {
   "cell_type": "code",
   "execution_count": 3,
   "id": "2b71f4d8",
   "metadata": {},
   "outputs": [
    {
     "name": "stdout",
     "output_type": "stream",
     "text": [
      "2 3 4 5 2 4 3 4 5 "
     ]
    }
   ],
   "source": [
    "def number_extraction(num):\n",
    "    num=list(str(num))\n",
    "    num.remove('.')\n",
    "    for i in num:\n",
    "        print(i,end=' ')\n",
    "number_extraction(234.524345)"
   ]
  },
  {
   "cell_type": "code",
   "execution_count": 2,
   "id": "8fcc1767",
   "metadata": {},
   "outputs": [
    {
     "name": "stdout",
     "output_type": "stream",
     "text": [
      "4 3 2 "
     ]
    }
   ],
   "source": [
    "def number_extraction(num):\n",
    "    while num>0:\n",
    "        num,digit=divmod(num,10)\n",
    "        print(digit,end=' ')\n",
    "number_extraction(234)"
   ]
  },
  {
   "cell_type": "markdown",
   "id": "26354f58",
   "metadata": {},
   "source": [
    "###### Determining the number of digits"
   ]
  },
  {
   "cell_type": "code",
   "execution_count": 1,
   "id": "66ba8750",
   "metadata": {},
   "outputs": [
    {
     "name": "stdout",
     "output_type": "stream",
     "text": [
      "3\n"
     ]
    }
   ],
   "source": [
    "def counting_digits(num):\n",
    "    count=0\n",
    "    while num>0:\n",
    "        num=num//10\n",
    "        count+=1\n",
    "    print(count)\n",
    "\n",
    "counting_digits(234)"
   ]
  },
  {
   "cell_type": "markdown",
   "id": "72a803d4",
   "metadata": {},
   "source": [
    "###### Finding the divisors"
   ]
  },
  {
   "cell_type": "code",
   "execution_count": 11,
   "id": "0a5d2a63",
   "metadata": {},
   "outputs": [
    {
     "name": "stdout",
     "output_type": "stream",
     "text": [
      "1 2 3 6 7 13 14 21 26 39 42 78 91 182 273 "
     ]
    }
   ],
   "source": [
    "def factors(num):\n",
    "    if num>0:\n",
    "        for i in range(1,num):\n",
    "            if num%i==0:\n",
    "                print(i,end=' ')\n",
    "    else:\n",
    "        print(\"Please enter the number greater than zero\")\n",
    "factors(546)"
   ]
  },
  {
   "cell_type": "code",
   "execution_count": 17,
   "id": "66ae1117",
   "metadata": {},
   "outputs": [
    {
     "data": {
      "text/plain": [
       "[1, 2, 3, 4, 6, 8, 12, 19, 24, 38, 57, 76, 114, 152, 228]"
      ]
     },
     "execution_count": 17,
     "metadata": {},
     "output_type": "execute_result"
    }
   ],
   "source": [
    "def factors(num):\n",
    "    if num>0:\n",
    "        return [i for i in range(1,num) if num%i==0]\n",
    "    else:\n",
    "        return f\"Enter the number greater than 0\"\n",
    "factors(456)"
   ]
  },
  {
   "cell_type": "markdown",
   "id": "5637babb",
   "metadata": {},
   "source": [
    "###### Prime or not"
   ]
  },
  {
   "cell_type": "code",
   "execution_count": 37,
   "id": "b9bc5b23",
   "metadata": {},
   "outputs": [
    {
     "name": "stdout",
     "output_type": "stream",
     "text": [
      "Given number is not prime number\n"
     ]
    }
   ],
   "source": [
    "def is_prime(num):\n",
    "    if num>1:\n",
    "        for i in range(2,num):\n",
    "            if num%i==0:\n",
    "                print(\"Given number is not prime number\")\n",
    "                break\n",
    "        else:\n",
    "            print(\"Given number is a prime number\")\n",
    "    else:\n",
    "        print(\"Please enter the number greater than 1\")\n",
    "is_prime(12)"
   ]
  },
  {
   "cell_type": "code",
   "execution_count": 52,
   "id": "f9f1b6e2",
   "metadata": {},
   "outputs": [
    {
     "name": "stdout",
     "output_type": "stream",
     "text": [
      "[101, 103, 107, 109, 113, 127, 131, 137, 139, 149]\n"
     ]
    }
   ],
   "source": [
    "def list_of_prime(x,y):\n",
    "    if x>1 and y>1:\n",
    "        k=[]\n",
    "        for i in range(x,y):\n",
    "            for j in range(2,i):\n",
    "                if i%j==0:\n",
    "                    break\n",
    "            else:\n",
    "                k.append(i)\n",
    "        print(k)\n",
    "    else:\n",
    "        print(\"Enter the numbers greater than one\")\n",
    "list_of_prime(100,150)"
   ]
  },
  {
   "cell_type": "code",
   "execution_count": 61,
   "id": "8c3d2f1e",
   "metadata": {},
   "outputs": [
    {
     "name": "stdout",
     "output_type": "stream",
     "text": [
      "False\n"
     ]
    }
   ],
   "source": [
    "def fun(n):\n",
    "    f=sum(s for s in range(1,n) if s%2==0)\n",
    "    s=sum(s for s in range(0,f,2))\n",
    "    return f!=s\n",
    "print(fun(5))"
   ]
  },
  {
   "cell_type": "code",
   "execution_count": 71,
   "id": "01d72ae3",
   "metadata": {},
   "outputs": [
    {
     "name": "stdout",
     "output_type": "stream",
     "text": [
      "Entered Year 400  is not a Leap Year\n",
      "Please Try Again.\n"
     ]
    }
   ],
   "source": [
    "def leapYear(n):\n",
    "    if n%4==0 and n%100!=0 and n%400==0:\n",
    "        print(\"Entered year\", n ,\" is a Leap Year\\nThank You\")\n",
    "    else:\n",
    "        print(\"Entered Year\", n ,\" is not a Leap Year\\nPlease Try Again.\")\n",
    "leapYear(400)"
   ]
  },
  {
   "cell_type": "code",
   "execution_count": 5,
   "id": "2da10c65",
   "metadata": {},
   "outputs": [
    {
     "name": "stdout",
     "output_type": "stream",
     "text": [
      "count: 5\n",
      "sum: 27\n"
     ]
    }
   ],
   "source": [
    "def calc_sum_and_count_all_numbers_div_by_2_or_7(max_exclusive):\n",
    "    count = 0\n",
    "    sum = 0\n",
    "    for i in range(1, max_exclusive):\n",
    "        if i % 2 == 0 or i % 7 == 0:\n",
    "            count += 1\n",
    "            sum += i\n",
    "    print(\"count:\", count)\n",
    "    print(\"sum:\", sum)\n",
    "\n",
    "calc_sum_and_count_all_numbers_div_by_2_or_7(10)"
   ]
  },
  {
   "cell_type": "code",
   "execution_count": 1,
   "id": "633f58bb",
   "metadata": {},
   "outputs": [
    {
     "name": "stdout",
     "output_type": "stream",
     "text": [
      "Package                      Version\n",
      "---------------------------- -----------\n",
      "absl-py                      1.4.0\n",
      "anyio                        3.6.2\n",
      "argon2-cffi                  21.3.0\n",
      "argon2-cffi-bindings         21.2.0\n",
      "arrow                        1.2.3\n",
      "asgiref                      3.5.2\n",
      "asttokens                    2.2.1\n",
      "astunparse                   1.6.3\n",
      "attrs                        22.2.0\n",
      "Babel                        2.11.0\n",
      "backcall                     0.2.0\n",
      "beautifulsoup4               4.11.1\n",
      "bleach                       6.0.0\n",
      "cachetools                   5.3.0\n",
      "certifi                      2022.12.7\n",
      "cffi                         1.15.1\n",
      "charset-normalizer           3.0.1\n",
      "colorama                     0.4.6\n",
      "comm                         0.1.2\n",
      "contourpy                    1.0.7\n",
      "cycler                       0.11.0\n",
      "debugpy                      1.6.6\n",
      "decorator                    5.1.1\n",
      "defusedxml                   0.7.1\n",
      "Django                       4.1.1\n",
      "executing                    1.2.0\n",
      "fastjsonschema               2.16.2\n",
      "filelock                     3.12.4\n",
      "flatbuffers                  23.1.21\n",
      "fonttools                    4.38.0\n",
      "fqdn                         1.5.1\n",
      "fsspec                       2023.10.0\n",
      "gast                         0.4.0\n",
      "google-auth                  2.16.0\n",
      "google-auth-oauthlib         0.4.6\n",
      "google-pasta                 0.2.0\n",
      "grpcio                       1.51.1\n",
      "h5py                         3.8.0\n",
      "idna                         3.4\n",
      "imageio                      2.25.1\n",
      "ipykernel                    6.21.0\n",
      "ipython                      8.9.0\n",
      "ipython-genutils             0.2.0\n",
      "ipywidgets                   8.0.4\n",
      "isoduration                  20.11.0\n",
      "jedi                         0.18.2\n",
      "Jinja2                       3.1.2\n",
      "joblib                       1.2.0\n",
      "json5                        0.9.11\n",
      "jsonpointer                  2.3\n",
      "jsonschema                   4.17.3\n",
      "jupyter                      1.0.0\n",
      "jupyter_client               8.0.2\n",
      "jupyter-console              6.4.4\n",
      "jupyter_core                 5.2.0\n",
      "jupyter-events               0.6.3\n",
      "jupyter_server               2.1.0\n",
      "jupyter_server_terminals     0.4.4\n",
      "jupyterlab                   3.5.3\n",
      "jupyterlab-pygments          0.2.2\n",
      "jupyterlab_server            2.19.0\n",
      "jupyterlab-widgets           3.0.5\n",
      "kiwisolver                   1.4.4\n",
      "libclang                     15.0.6.1\n",
      "Markdown                     3.4.1\n",
      "MarkupSafe                   2.1.2\n",
      "matplotlib                   3.6.3\n",
      "matplotlib-inline            0.1.6\n",
      "mistune                      2.0.4\n",
      "mpmath                       1.3.0\n",
      "nbclassic                    0.5.1\n",
      "nbclient                     0.7.2\n",
      "nbconvert                    7.2.9\n",
      "nbformat                     5.7.3\n",
      "nest-asyncio                 1.5.6\n",
      "networkx                     3.0\n",
      "notebook                     6.5.2\n",
      "notebook_shim                0.2.2\n",
      "numpy                        1.24.1\n",
      "oauthlib                     3.2.2\n",
      "opt-einsum                   3.3.0\n",
      "packaging                    23.0\n",
      "pandas                       1.5.3\n",
      "pandocfilters                1.5.0\n",
      "parso                        0.8.3\n",
      "pickleshare                  0.7.5\n",
      "Pillow                       9.4.0\n",
      "pip                          23.1.2\n",
      "platformdirs                 2.6.2\n",
      "prometheus-client            0.16.0\n",
      "prompt-toolkit               3.0.36\n",
      "protobuf                     3.19.6\n",
      "psutil                       5.9.4\n",
      "pure-eval                    0.2.2\n",
      "pyasn1                       0.4.8\n",
      "pyasn1-modules               0.2.8\n",
      "pycparser                    2.21\n",
      "Pygments                     2.14.0\n",
      "pyparsing                    3.0.9\n",
      "PyPDF2                       3.0.1\n",
      "pyrsistent                   0.19.3\n",
      "python-dateutil              2.8.2\n",
      "python-json-logger           2.0.4\n",
      "pytz                         2022.7.1\n",
      "PyWavelets                   1.4.1\n",
      "pywin32                      305\n",
      "pywinpty                     2.0.10\n",
      "PyYAML                       6.0\n",
      "pyzmq                        25.0.0\n",
      "qtconsole                    5.4.0\n",
      "QtPy                         2.3.0\n",
      "requests                     2.28.2\n",
      "requests-oauthlib            1.3.1\n",
      "rfc3339-validator            0.1.4\n",
      "rfc3986-validator            0.1.1\n",
      "rsa                          4.9\n",
      "scipy                        1.10.0\n",
      "Send2Trash                   1.8.0\n",
      "setuptools                   63.2.0\n",
      "six                          1.16.0\n",
      "sniffio                      1.3.0\n",
      "soupsieve                    2.3.2.post1\n",
      "sqlparse                     0.4.3\n",
      "stack-data                   0.6.2\n",
      "sympy                        1.12\n",
      "tensorboard                  2.11.2\n",
      "tensorboard-data-server      0.6.1\n",
      "tensorboard-plugin-wit       1.8.1\n",
      "tensorflow-estimator         2.11.0\n",
      "tensorflow-intel             2.11.0\n",
      "tensorflow-io-gcs-filesystem 0.30.0\n",
      "termcolor                    2.2.0\n",
      "terminado                    0.17.1\n",
      "threadpoolctl                3.1.0\n",
      "tifffile                     2023.2.3\n",
      "tinycss2                     1.2.1\n",
      "tomli                        2.0.1\n",
      "torch                        2.1.0\n",
      "tornado                      6.2\n",
      "traitlets                    5.9.0\n",
      "typing_extensions            4.4.0\n",
      "tzdata                       2022.4\n",
      "uri-template                 1.2.0\n",
      "urllib3                      1.26.14\n",
      "wcwidth                      0.2.6\n",
      "webcolors                    1.12\n",
      "webencodings                 0.5.1\n",
      "websocket-client             1.5.0\n",
      "Werkzeug                     2.2.2\n",
      "wheel                        0.38.4\n",
      "widgetsnbextension           4.0.5\n",
      "wrapt                        1.14.1\n"
     ]
    },
    {
     "name": "stderr",
     "output_type": "stream",
     "text": [
      "\n",
      "[notice] A new release of pip is available: 23.1.2 -> 23.3.2\n",
      "[notice] To update, run: python.exe -m pip install --upgrade pip\n"
     ]
    }
   ],
   "source": [
    "!pip list"
   ]
  },
  {
   "cell_type": "code",
   "execution_count": 2,
   "id": "ee33e92e",
   "metadata": {},
   "outputs": [
    {
     "name": "stdout",
     "output_type": "stream",
     "text": [
      "Collecting easygui\n",
      "  Downloading easygui-0.98.3-py2.py3-none-any.whl (92 kB)\n",
      "                                              0.0/92.7 kB ? eta -:--:--\n",
      "     ---------------------------------------- 92.7/92.7 kB ? eta 0:00:00\n",
      "Installing collected packages: easygui\n",
      "Successfully installed easygui-0.98.3\n"
     ]
    },
    {
     "name": "stderr",
     "output_type": "stream",
     "text": [
      "\n",
      "[notice] A new release of pip is available: 23.1.2 -> 23.3.2\n",
      "[notice] To update, run: python.exe -m pip install --upgrade pip\n"
     ]
    }
   ],
   "source": [
    "!pip install easygui"
   ]
  },
  {
   "cell_type": "code",
   "execution_count": 3,
   "id": "6e6d445f",
   "metadata": {},
   "outputs": [
    {
     "name": "stderr",
     "output_type": "stream",
     "text": [
      "'easygui' is not recognized as an internal or external command,\n",
      "operable program or batch file.\n"
     ]
    }
   ],
   "source": [
    "!easygui --version"
   ]
  },
  {
   "cell_type": "code",
   "execution_count": 4,
   "id": "18890e8b",
   "metadata": {},
   "outputs": [
    {
     "ename": "NameError",
     "evalue": "name 'easygui' is not defined",
     "output_type": "error",
     "traceback": [
      "\u001b[1;31m---------------------------------------------------------------------------\u001b[0m",
      "\u001b[1;31mNameError\u001b[0m                                 Traceback (most recent call last)",
      "Cell \u001b[1;32mIn[4], line 1\u001b[0m\n\u001b[1;32m----> 1\u001b[0m \u001b[43measygui\u001b[49m \u001b[38;5;241m-\u001b[39m\u001b[38;5;241m-\u001b[39mversion\n",
      "\u001b[1;31mNameError\u001b[0m: name 'easygui' is not defined"
     ]
    }
   ],
   "source": [
    "easygui --version"
   ]
  },
  {
   "cell_type": "code",
   "execution_count": 5,
   "id": "a75a99ad",
   "metadata": {},
   "outputs": [
    {
     "ename": "NameError",
     "evalue": "name 'python' is not defined",
     "output_type": "error",
     "traceback": [
      "\u001b[1;31m---------------------------------------------------------------------------\u001b[0m",
      "\u001b[1;31mNameError\u001b[0m                                 Traceback (most recent call last)",
      "Cell \u001b[1;32mIn[5], line 1\u001b[0m\n\u001b[1;32m----> 1\u001b[0m \u001b[43mpython\u001b[49m \u001b[38;5;241m-\u001b[39m\u001b[38;5;241m-\u001b[39mversion\n",
      "\u001b[1;31mNameError\u001b[0m: name 'python' is not defined"
     ]
    }
   ],
   "source": [
    "python --version"
   ]
  },
  {
   "cell_type": "code",
   "execution_count": 6,
   "id": "e8bd1330",
   "metadata": {},
   "outputs": [
    {
     "name": "stdout",
     "output_type": "stream",
     "text": [
      "Python 3.10.7\n"
     ]
    }
   ],
   "source": [
    "!python --version"
   ]
  },
  {
   "cell_type": "code",
   "execution_count": 8,
   "id": "b2f07d86",
   "metadata": {},
   "outputs": [
    {
     "data": {
      "text/plain": [
       "'OK'"
      ]
     },
     "execution_count": 8,
     "metadata": {},
     "output_type": "execute_result"
    }
   ],
   "source": [
    "import easygui as gui\n",
    "gui.msgbox(msg='Hello!',title=\"My first message\")"
   ]
  },
  {
   "cell_type": "code",
   "execution_count": 1,
   "id": "794fefee",
   "metadata": {},
   "outputs": [
    {
     "name": "stdout",
     "output_type": "stream",
     "text": [
      "Welcome to the GPA calculator\n",
      "Please enter all your letter grades, one per line.\n",
      "Enter a blank line to designate the end\n",
      "A\n",
      "B\n",
      "C\n",
      "D\n",
      "Unknown grade 'D' being ignored\n",
      "C\n",
      "C\n",
      "C\n",
      "\n",
      "Your GPA is 2.28\n"
     ]
    }
   ],
   "source": [
    "print(\"Welcome to the GPA calculator\")\n",
    "print(\"Please enter all your letter grades, one per line.\")\n",
    "print(\"Enter a blank line to designate the end\")\n",
    "#map from letter grade to point value\n",
    "points={'A+':4.0,'A':4.0,'A-':3.67,'B+':3.33,'B':3.0,'B-':2.67,'C+':2.33,'C':2.0,'C':1.67,'D+':1.0,'F':0.0}\n",
    "num_courses=0\n",
    "total_points=0\n",
    "done=False\n",
    "while not done:\n",
    "    grade=input()\n",
    "    if grade=='':\n",
    "        done=True\n",
    "    elif grade not in points:\n",
    "        print(\"Unknown grade '{0}' being ignored\".format(grade))\n",
    "    else:\n",
    "        num_courses+=1\n",
    "        total_points=total_points+points[grade]\n",
    "if num_courses>0:\n",
    "    print('Your GPA is {0:3}'.format(total_points/num_courses))"
   ]
  },
  {
   "cell_type": "code",
   "execution_count": 16,
   "id": "bd0ad13b",
   "metadata": {},
   "outputs": [],
   "source": [
    "#raising an exception\n",
    "def sqrt(x):\n",
    "    if not isinstance(x,(int,float)):\n",
    "        raise TypeError('X must be numeric')\n",
    "    elif x<0:\n",
    "        raise ValueError(\"X must be positive\")\n",
    "    return x**2"
   ]
  },
  {
   "cell_type": "code",
   "execution_count": 12,
   "id": "299a58f9",
   "metadata": {},
   "outputs": [
    {
     "ename": "TypeError",
     "evalue": "X must be numeric",
     "output_type": "error",
     "traceback": [
      "\u001b[1;31m---------------------------------------------------------------------------\u001b[0m",
      "\u001b[1;31mTypeError\u001b[0m                                 Traceback (most recent call last)",
      "Cell \u001b[1;32mIn[12], line 1\u001b[0m\n\u001b[1;32m----> 1\u001b[0m \u001b[43msqrt\u001b[49m\u001b[43m(\u001b[49m\u001b[38;5;124;43m'\u001b[39;49m\u001b[38;5;124;43mb\u001b[39;49m\u001b[38;5;124;43m'\u001b[39;49m\u001b[43m)\u001b[49m\n\u001b[0;32m      2\u001b[0m \u001b[38;5;66;03m#raise an error with exception\u001b[39;00m\n",
      "Cell \u001b[1;32mIn[7], line 4\u001b[0m, in \u001b[0;36msqrt\u001b[1;34m(x)\u001b[0m\n\u001b[0;32m      2\u001b[0m \u001b[38;5;28;01mdef\u001b[39;00m \u001b[38;5;21msqrt\u001b[39m(x):\n\u001b[0;32m      3\u001b[0m     \u001b[38;5;28;01mif\u001b[39;00m \u001b[38;5;129;01mnot\u001b[39;00m \u001b[38;5;28misinstance\u001b[39m(x,(\u001b[38;5;28mint\u001b[39m,\u001b[38;5;28mfloat\u001b[39m)):\n\u001b[1;32m----> 4\u001b[0m         \u001b[38;5;28;01mraise\u001b[39;00m \u001b[38;5;167;01mTypeError\u001b[39;00m(\u001b[38;5;124m'\u001b[39m\u001b[38;5;124mX must be numeric\u001b[39m\u001b[38;5;124m'\u001b[39m)\n\u001b[0;32m      5\u001b[0m     \u001b[38;5;28;01melif\u001b[39;00m x\u001b[38;5;241m<\u001b[39m\u001b[38;5;241m0\u001b[39m:\n\u001b[0;32m      6\u001b[0m         \u001b[38;5;28;01mraise\u001b[39;00m \u001b[38;5;167;01mValueError\u001b[39;00m(\u001b[38;5;124m\"\u001b[39m\u001b[38;5;124mX must be positive\u001b[39m\u001b[38;5;124m\"\u001b[39m)\n",
      "\u001b[1;31mTypeError\u001b[0m: X must be numeric"
     ]
    }
   ],
   "source": [
    "sqrt('b')\n",
    "#raise an error with exception"
   ]
  },
  {
   "cell_type": "code",
   "execution_count": 14,
   "id": "f3483336",
   "metadata": {},
   "outputs": [
    {
     "ename": "ValueError",
     "evalue": "X must be positive",
     "output_type": "error",
     "traceback": [
      "\u001b[1;31m---------------------------------------------------------------------------\u001b[0m",
      "\u001b[1;31mValueError\u001b[0m                                Traceback (most recent call last)",
      "Cell \u001b[1;32mIn[14], line 1\u001b[0m\n\u001b[1;32m----> 1\u001b[0m \u001b[43msqrt\u001b[49m\u001b[43m(\u001b[49m\u001b[38;5;241;43m-\u001b[39;49m\u001b[38;5;241;43m19\u001b[39;49m\u001b[43m)\u001b[49m\n\u001b[0;32m      2\u001b[0m \u001b[38;5;66;03m#raise with another exception\u001b[39;00m\n",
      "Cell \u001b[1;32mIn[7], line 6\u001b[0m, in \u001b[0;36msqrt\u001b[1;34m(x)\u001b[0m\n\u001b[0;32m      4\u001b[0m     \u001b[38;5;28;01mraise\u001b[39;00m \u001b[38;5;167;01mTypeError\u001b[39;00m(\u001b[38;5;124m'\u001b[39m\u001b[38;5;124mX must be numeric\u001b[39m\u001b[38;5;124m'\u001b[39m)\n\u001b[0;32m      5\u001b[0m \u001b[38;5;28;01melif\u001b[39;00m x\u001b[38;5;241m<\u001b[39m\u001b[38;5;241m0\u001b[39m:\n\u001b[1;32m----> 6\u001b[0m     \u001b[38;5;28;01mraise\u001b[39;00m \u001b[38;5;167;01mValueError\u001b[39;00m(\u001b[38;5;124m\"\u001b[39m\u001b[38;5;124mX must be positive\u001b[39m\u001b[38;5;124m\"\u001b[39m)\n\u001b[0;32m      7\u001b[0m \u001b[38;5;28;01mreturn\u001b[39;00m x\u001b[38;5;241m*\u001b[39m\u001b[38;5;241m*\u001b[39mx\n",
      "\u001b[1;31mValueError\u001b[0m: X must be positive"
     ]
    }
   ],
   "source": [
    "sqrt(-19)\n",
    "#raise with another exception"
   ]
  },
  {
   "cell_type": "code",
   "execution_count": 19,
   "id": "2830ee67",
   "metadata": {},
   "outputs": [
    {
     "name": "stdout",
     "output_type": "stream",
     "text": [
      "100\n",
      "5.475599999999999\n"
     ]
    }
   ],
   "source": [
    "print(sqrt(10))\n",
    "print(sqrt(2.34))"
   ]
  },
  {
   "cell_type": "code",
   "execution_count": 21,
   "id": "29f23fcc",
   "metadata": {},
   "outputs": [],
   "source": [
    "a=10"
   ]
  },
  {
   "cell_type": "code",
   "execution_count": 22,
   "id": "98084ec6",
   "metadata": {},
   "outputs": [],
   "source": [
    "a?"
   ]
  },
  {
   "cell_type": "code",
   "execution_count": 26,
   "id": "3ea67158",
   "metadata": {},
   "outputs": [],
   "source": [
    "def add(a,b):\n",
    "    #adding two numbers\n",
    "    #a is first \n",
    "    #b is second\n",
    "    return a+b"
   ]
  },
  {
   "cell_type": "code",
   "execution_count": 27,
   "id": "e6e7965e",
   "metadata": {},
   "outputs": [
    {
     "data": {
      "text/plain": [
       "4"
      ]
     },
     "execution_count": 27,
     "metadata": {},
     "output_type": "execute_result"
    }
   ],
   "source": [
    "add(1,3)"
   ]
  },
  {
   "cell_type": "code",
   "execution_count": 2,
   "id": "c309e0bf",
   "metadata": {},
   "outputs": [
    {
     "name": "stdout",
     "output_type": "stream",
     "text": [
      "[1 2 3 4 5 6 7]\n"
     ]
    }
   ],
   "source": [
    "import numpy as np\n",
    "values = np.array([1, 2, 3, 4, 5, 6, 7])\n",
    "# order_even_before_odd(values)\n",
    "print(values)"
   ]
  },
  {
   "cell_type": "code",
   "execution_count": 1,
   "id": "10c8901e",
   "metadata": {},
   "outputs": [],
   "source": [
    "def square(x):\n",
    "    return x*x"
   ]
  },
  {
   "cell_type": "code",
   "execution_count": 2,
   "id": "9e7a8882",
   "metadata": {},
   "outputs": [
    {
     "data": {
      "text/plain": [
       "100"
      ]
     },
     "execution_count": 2,
     "metadata": {},
     "output_type": "execute_result"
    }
   ],
   "source": [
    "square(10)"
   ]
  },
  {
   "cell_type": "code",
   "execution_count": 3,
   "id": "5737ccef",
   "metadata": {},
   "outputs": [],
   "source": [
    "z=square"
   ]
  },
  {
   "cell_type": "code",
   "execution_count": 4,
   "id": "6b19dac1",
   "metadata": {},
   "outputs": [
    {
     "name": "stdout",
     "output_type": "stream",
     "text": [
      "144\n"
     ]
    }
   ],
   "source": [
    "print(z(12))"
   ]
  },
  {
   "cell_type": "code",
   "execution_count": 6,
   "id": "851c8a71",
   "metadata": {},
   "outputs": [
    {
     "name": "stdout",
     "output_type": "stream",
     "text": [
      "5\n",
      "0 0\n"
     ]
    }
   ],
   "source": [
    "x=0\n",
    "y=0\n",
    "def inc(x):\n",
    "    y=x+1\n",
    "    return y\n",
    "print(inc(4))\n",
    "print(x,y)"
   ]
  },
  {
   "cell_type": "code",
   "execution_count": 7,
   "id": "8b172ba0",
   "metadata": {},
   "outputs": [
    {
     "data": {
      "text/plain": [
       "144"
      ]
     },
     "execution_count": 7,
     "metadata": {},
     "output_type": "execute_result"
    }
   ],
   "source": [
    "z(6+6)"
   ]
  },
  {
   "cell_type": "code",
   "execution_count": 9,
   "id": "592b6170",
   "metadata": {},
   "outputs": [
    {
     "name": "stdout",
     "output_type": "stream",
     "text": [
      "1\n",
      "1\n"
     ]
    }
   ],
   "source": [
    "x=1\n",
    "def f():\n",
    "    return x\n",
    "print(f())\n",
    "print(x)"
   ]
  },
  {
   "cell_type": "code",
   "execution_count": 12,
   "id": "2f636e97",
   "metadata": {},
   "outputs": [
    {
     "name": "stdout",
     "output_type": "stream",
     "text": [
      "1\n",
      "2\n",
      "1\n"
     ]
    }
   ],
   "source": [
    "x = 1\n",
    "def f():\n",
    "    x = 2\n",
    "    return x\n",
    "print(x)\n",
    "print(f())\n",
    "print(x)"
   ]
  },
  {
   "cell_type": "code",
   "execution_count": 17,
   "id": "7815120a",
   "metadata": {},
   "outputs": [
    {
     "name": "stdout",
     "output_type": "stream",
     "text": [
      "1\n"
     ]
    }
   ],
   "source": [
    "x=1\n",
    "print(x)"
   ]
  },
  {
   "cell_type": "code",
   "execution_count": 18,
   "id": "095b5cfd",
   "metadata": {},
   "outputs": [
    {
     "data": {
      "text/plain": [
       "'Mon Feb  5 08:27:06 2024'"
      ]
     },
     "execution_count": 18,
     "metadata": {},
     "output_type": "execute_result"
    }
   ],
   "source": [
    "import time\n",
    "time.asctime()"
   ]
  },
  {
   "cell_type": "code",
   "execution_count": 19,
   "id": "f04a3f0e",
   "metadata": {},
   "outputs": [
    {
     "data": {
      "text/plain": [
       "'Mon Feb  5 08:27:15 2024'"
      ]
     },
     "execution_count": 19,
     "metadata": {},
     "output_type": "execute_result"
    }
   ],
   "source": [
    "time.asctime()"
   ]
  },
  {
   "cell_type": "code",
   "execution_count": 20,
   "id": "6e9e9cf9",
   "metadata": {},
   "outputs": [],
   "source": [
    "import sys"
   ]
  },
  {
   "cell_type": "code",
   "execution_count": 25,
   "id": "1a09f51f",
   "metadata": {},
   "outputs": [
    {
     "data": {
      "text/plain": [
       "'--f=c:\\\\Users\\\\Moizuddin\\\\AppData\\\\Roaming\\\\jupyter\\\\runtime\\\\kernel-v2-79884tS3NIAn5uiB.json'"
      ]
     },
     "execution_count": 25,
     "metadata": {},
     "output_type": "execute_result"
    }
   ],
   "source": [
    "sys.argv[1]"
   ]
  },
  {
   "cell_type": "code",
   "execution_count": 26,
   "id": "673becb4",
   "metadata": {},
   "outputs": [
    {
     "data": {
      "text/plain": [
       "range(0, 4)"
      ]
     },
     "execution_count": 26,
     "metadata": {},
     "output_type": "execute_result"
    }
   ],
   "source": [
    "range(4)"
   ]
  },
  {
   "cell_type": "code",
   "execution_count": 27,
   "id": "5443e719",
   "metadata": {},
   "outputs": [
    {
     "data": {
      "text/plain": [
       "[0, 1, 2, 3, 4]"
      ]
     },
     "execution_count": 27,
     "metadata": {},
     "output_type": "execute_result"
    }
   ],
   "source": [
    "list(range(5))"
   ]
  },
  {
   "cell_type": "code",
   "execution_count": 28,
   "id": "4284f053",
   "metadata": {},
   "outputs": [
    {
     "data": {
      "text/plain": [
       "[3, 4, 5]"
      ]
     },
     "execution_count": 28,
     "metadata": {},
     "output_type": "execute_result"
    }
   ],
   "source": [
    "list(range(3,6))"
   ]
  },
  {
   "cell_type": "code",
   "execution_count": 2,
   "id": "9fa00c9c",
   "metadata": {},
   "outputs": [
    {
     "data": {
      "text/plain": [
       "[3,\n",
       " 4,\n",
       " 5,\n",
       " 6,\n",
       " 7,\n",
       " 8,\n",
       " 9,\n",
       " 10,\n",
       " 11,\n",
       " 12,\n",
       " 13,\n",
       " 14,\n",
       " 15,\n",
       " 16,\n",
       " 17,\n",
       " 18,\n",
       " 19,\n",
       " 20,\n",
       " 21,\n",
       " 22,\n",
       " 23,\n",
       " 24,\n",
       " 25,\n",
       " 26,\n",
       " 27,\n",
       " 28,\n",
       " 29,\n",
       " 30,\n",
       " 31,\n",
       " 32,\n",
       " 33,\n",
       " 34,\n",
       " 35,\n",
       " 36,\n",
       " 37,\n",
       " 38,\n",
       " 39,\n",
       " 40,\n",
       " 41,\n",
       " 42,\n",
       " 43,\n",
       " 44,\n",
       " 45,\n",
       " 46,\n",
       " 47,\n",
       " 48,\n",
       " 49,\n",
       " 50,\n",
       " 51,\n",
       " 52,\n",
       " 53,\n",
       " 54]"
      ]
     },
     "execution_count": 2,
     "metadata": {},
     "output_type": "execute_result"
    }
   ],
   "source": [
    "list(range(3,55))"
   ]
  },
  {
   "cell_type": "code",
   "execution_count": 3,
   "id": "c0625341",
   "metadata": {},
   "outputs": [
    {
     "data": {
      "text/plain": [
       "[3, 4]"
      ]
     },
     "execution_count": 3,
     "metadata": {},
     "output_type": "execute_result"
    }
   ],
   "source": [
    "list(range(3,5))"
   ]
  },
  {
   "cell_type": "code",
   "execution_count": null,
   "id": "988486d5",
   "metadata": {},
   "outputs": [],
   "source": []
  }
 ],
 "metadata": {
  "kernelspec": {
   "display_name": "Python 3 (ipykernel)",
   "language": "python",
   "name": "python3"
  },
  "language_info": {
   "codemirror_mode": {
    "name": "ipython",
    "version": 3
   },
   "file_extension": ".py",
   "mimetype": "text/x-python",
   "name": "python",
   "nbconvert_exporter": "python",
   "pygments_lexer": "ipython3",
   "version": "3.10.7"
  }
 },
 "nbformat": 4,
 "nbformat_minor": 5
}
