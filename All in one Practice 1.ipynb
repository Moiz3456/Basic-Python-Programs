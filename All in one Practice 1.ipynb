{
 "cells": [
  {
   "cell_type": "markdown",
   "id": "1dbc2077",
   "metadata": {},
   "source": [
    "###### Extraction of digits"
   ]
  },
  {
   "cell_type": "code",
   "execution_count": 7,
   "id": "8255126d",
   "metadata": {},
   "outputs": [
    {
     "name": "stdout",
     "output_type": "stream",
     "text": [
      "1 2 3 2 1 3 1\n",
      "2\n",
      "3\n",
      "2\n",
      "1\n",
      "3\n"
     ]
    }
   ],
   "source": [
    "num=123213\n",
    "for i in str(num):\n",
    "    print(i,end=' ')\n",
    "'\\n'\n",
    "for i in str(num):\n",
    "    print(i)"
   ]
  },
  {
   "cell_type": "code",
   "execution_count": 4,
   "id": "8937224c",
   "metadata": {},
   "outputs": [
    {
     "name": "stdout",
     "output_type": "stream",
     "text": [
      "6 4 5 6 "
     ]
    }
   ],
   "source": [
    "def number_extraction(num):\n",
    "    while num>0:\n",
    "        digit=num%10\n",
    "        num=num//10\n",
    "        print(digit,end=' ')\n",
    "number_extraction(6546)"
   ]
  },
  {
   "cell_type": "code",
   "execution_count": 3,
   "id": "2b71f4d8",
   "metadata": {},
   "outputs": [
    {
     "name": "stdout",
     "output_type": "stream",
     "text": [
      "2 3 4 5 2 4 3 4 5 "
     ]
    }
   ],
   "source": [
    "def number_extraction(num):\n",
    "    num=list(str(num))\n",
    "    num.remove('.')\n",
    "    for i in num:\n",
    "        print(i,end=' ')\n",
    "number_extraction(234.524345)"
   ]
  },
  {
   "cell_type": "code",
   "execution_count": 2,
   "id": "8fcc1767",
   "metadata": {},
   "outputs": [
    {
     "name": "stdout",
     "output_type": "stream",
     "text": [
      "4 3 2 "
     ]
    }
   ],
   "source": [
    "def number_extraction(num):\n",
    "    while num>0:\n",
    "        num,digit=divmod(num,10)\n",
    "        print(digit,end=' ')\n",
    "number_extraction(234)"
   ]
  },
  {
   "cell_type": "markdown",
   "id": "26354f58",
   "metadata": {},
   "source": [
    "###### Determining the number of digits"
   ]
  },
  {
   "cell_type": "code",
   "execution_count": 1,
   "id": "66ba8750",
   "metadata": {},
   "outputs": [
    {
     "name": "stdout",
     "output_type": "stream",
     "text": [
      "3\n"
     ]
    }
   ],
   "source": [
    "def counting_digits(num):\n",
    "    count=0\n",
    "    while num>0:\n",
    "        num=num//10\n",
    "        count+=1\n",
    "    print(count)\n",
    "\n",
    "counting_digits(234)"
   ]
  },
  {
   "cell_type": "markdown",
   "id": "72a803d4",
   "metadata": {},
   "source": [
    "###### Finding the divisors"
   ]
  },
  {
   "cell_type": "code",
   "execution_count": 11,
   "id": "0a5d2a63",
   "metadata": {},
   "outputs": [
    {
     "name": "stdout",
     "output_type": "stream",
     "text": [
      "1 2 3 6 7 13 14 21 26 39 42 78 91 182 273 "
     ]
    }
   ],
   "source": [
    "def factors(num):\n",
    "    if num>0:\n",
    "        for i in range(1,num):\n",
    "            if num%i==0:\n",
    "                print(i,end=' ')\n",
    "    else:\n",
    "        print(\"Please enter the number greater than zero\")\n",
    "factors(546)"
   ]
  },
  {
   "cell_type": "code",
   "execution_count": 17,
   "id": "66ae1117",
   "metadata": {},
   "outputs": [
    {
     "data": {
      "text/plain": [
       "[1, 2, 3, 4, 6, 8, 12, 19, 24, 38, 57, 76, 114, 152, 228]"
      ]
     },
     "execution_count": 17,
     "metadata": {},
     "output_type": "execute_result"
    }
   ],
   "source": [
    "def factors(num):\n",
    "    if num>0:\n",
    "        return [i for i in range(1,num) if num%i==0]\n",
    "    else:\n",
    "        return f\"Enter the number greater than 0\"\n",
    "factors(456)"
   ]
  },
  {
   "cell_type": "markdown",
   "id": "5637babb",
   "metadata": {},
   "source": [
    "###### Prime or not"
   ]
  },
  {
   "cell_type": "code",
   "execution_count": 37,
   "id": "b9bc5b23",
   "metadata": {},
   "outputs": [
    {
     "name": "stdout",
     "output_type": "stream",
     "text": [
      "Given number is not prime number\n"
     ]
    }
   ],
   "source": [
    "def is_prime(num):\n",
    "    if num>1:\n",
    "        for i in range(2,num):\n",
    "            if num%i==0:\n",
    "                print(\"Given number is not prime number\")\n",
    "                break\n",
    "        else:\n",
    "            print(\"Given number is a prime number\")\n",
    "    else:\n",
    "        print(\"Please enter the number greater than 1\")\n",
    "is_prime(12)"
   ]
  },
  {
   "cell_type": "code",
   "execution_count": 52,
   "id": "f9f1b6e2",
   "metadata": {},
   "outputs": [
    {
     "name": "stdout",
     "output_type": "stream",
     "text": [
      "[101, 103, 107, 109, 113, 127, 131, 137, 139, 149]\n"
     ]
    }
   ],
   "source": [
    "def list_of_prime(x,y):\n",
    "    if x>1 and y>1:\n",
    "        k=[]\n",
    "        for i in range(x,y):\n",
    "            for j in range(2,i):\n",
    "                if i%j==0:\n",
    "                    break\n",
    "            else:\n",
    "                k.append(i)\n",
    "        print(k)\n",
    "    else:\n",
    "        print(\"Enter the numbers greater than one\")\n",
    "list_of_prime(100,150)"
   ]
  },
  {
   "cell_type": "code",
   "execution_count": 61,
   "id": "8c3d2f1e",
   "metadata": {},
   "outputs": [
    {
     "name": "stdout",
     "output_type": "stream",
     "text": [
      "False\n"
     ]
    }
   ],
   "source": [
    "def fun(n):\n",
    "    f=sum(s for s in range(1,n) if s%2==0)\n",
    "    s=sum(s for s in range(0,f,2))\n",
    "    return f!=s\n",
    "print(fun(5))"
   ]
  },
  {
   "cell_type": "code",
   "execution_count": 71,
   "id": "01d72ae3",
   "metadata": {},
   "outputs": [
    {
     "name": "stdout",
     "output_type": "stream",
     "text": [
      "Entered Year 400  is not a Leap Year\n",
      "Please Try Again.\n"
     ]
    }
   ],
   "source": [
    "def leapYear(n):\n",
    "    if n%4==0 and n%100!=0 and n%400==0:\n",
    "        print(\"Entered year\", n ,\" is a Leap Year\\nThank You\")\n",
    "    else:\n",
    "        print(\"Entered Year\", n ,\" is not a Leap Year\\nPlease Try Again.\")\n",
    "leapYear(400)"
   ]
  },
  {
   "cell_type": "code",
   "execution_count": null,
   "id": "2da10c65",
   "metadata": {},
   "outputs": [],
   "source": []
  }
 ],
 "metadata": {
  "kernelspec": {
   "display_name": "Python 3 (ipykernel)",
   "language": "python",
   "name": "python3"
  },
  "language_info": {
   "codemirror_mode": {
    "name": "ipython",
    "version": 3
   },
   "file_extension": ".py",
   "mimetype": "text/x-python",
   "name": "python",
   "nbconvert_exporter": "python",
   "pygments_lexer": "ipython3",
   "version": "3.10.7"
  }
 },
 "nbformat": 4,
 "nbformat_minor": 5
}
