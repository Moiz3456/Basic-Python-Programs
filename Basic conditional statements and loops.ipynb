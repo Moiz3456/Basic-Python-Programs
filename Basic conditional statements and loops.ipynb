{
 "cells": [
  {
   "cell_type": "code",
   "execution_count": 3,
   "id": "f3e8afc9",
   "metadata": {},
   "outputs": [
    {
     "name": "stdout",
     "output_type": "stream",
     "text": [
      "35 70 105 140 175 210 245 280 315 350 385 420 455 490 525 560 595 630 665 700 735 770 805 840 875 910 945 980 1015 1050 1085 1120 1155 1190 1225 1260 1295 1330 1365 1400 1435 1470 "
     ]
    }
   ],
   "source": [
    "#Divisible by 7 and multiple of 5\n",
    "for i in range(1,1500):\n",
    "    if i%7==0 and i%5==0:\n",
    "        print(i,end=' ')"
   ]
  },
  {
   "cell_type": "code",
   "execution_count": 4,
   "id": "bdd26b6e",
   "metadata": {},
   "outputs": [
    {
     "name": "stdout",
     "output_type": "stream",
     "text": [
      "122.0\n"
     ]
    }
   ],
   "source": [
    "#converting the temperature to Fahrenheit\n",
    "temp=50\n",
    "fahr=(temp*9/5)+32\n",
    "print(fahr)"
   ]
  },
  {
   "cell_type": "code",
   "execution_count": 5,
   "id": "29b2d18e",
   "metadata": {},
   "outputs": [
    {
     "name": "stdout",
     "output_type": "stream",
     "text": [
      "50.0\n"
     ]
    }
   ],
   "source": [
    "#converting Fahrenheit to celcius\n",
    "fahr=122\n",
    "cen=(fahr-32)*5/9\n",
    "print(cen)"
   ]
  },
  {
   "cell_type": "code",
   "execution_count": 11,
   "id": "591cbe91",
   "metadata": {},
   "outputs": [
    {
     "name": "stdout",
     "output_type": "stream",
     "text": [
      "Enter the number1\n",
      "0\n"
     ]
    }
   ],
   "source": [
    "#guessing the number betwween 1 to 9\n",
    "import random\n",
    "random=random.randint(1,9)\n",
    "count=0\n",
    "while random==input(\"Enter the number\"):\n",
    "    count=count+1\n",
    "print(count)"
   ]
  },
  {
   "cell_type": "code",
   "execution_count": 15,
   "id": "9c77264a",
   "metadata": {},
   "outputs": [
    {
     "name": "stdout",
     "output_type": "stream",
     "text": [
      "*\n",
      "**\n",
      "***\n",
      "****\n",
      "*****\n",
      "****\n",
      "***\n",
      "**\n",
      "*\n"
     ]
    }
   ],
   "source": [
    "#make the pattern\n",
    "n=6\n",
    "for i in range(1,n):\n",
    "    print(i*'*')\n",
    "for i in range(1,n-1):\n",
    "    k=(n-1)-i\n",
    "    print(k*'*')"
   ]
  },
  {
   "cell_type": "code",
   "execution_count": 18,
   "id": "950187e5",
   "metadata": {},
   "outputs": [
    {
     "name": "stdout",
     "output_type": "stream",
     "text": [
      "Total Even are 5\n",
      "Total Odd are 5\n"
     ]
    }
   ],
   "source": [
    "#counting the number of even and odd numbers in the given list\n",
    "lis=[1,2,3,4,5,6,7,8,9,10]\n",
    "odd=0\n",
    "even=0\n",
    "for i in lis:\n",
    "    if i%2==0:\n",
    "        even=even+1\n",
    "    else:\n",
    "        odd=odd+1\n",
    "print(\"Total Even are\",even)\n",
    "print(\"Total Odd are\",odd)"
   ]
  },
  {
   "cell_type": "code",
   "execution_count": 20,
   "id": "665c345a",
   "metadata": {},
   "outputs": [
    {
     "name": "stdout",
     "output_type": "stream",
     "text": [
      "<class 'float'>\n",
      "<class 'complex'>\n",
      "<class 'bool'>\n",
      "<class 'str'>\n",
      "<class 'tuple'>\n",
      "<class 'list'>\n",
      "<class 'dict'>\n"
     ]
    }
   ],
   "source": [
    "#print each type of item in the list\n",
    "list=[11.23, 1+2j, True, 'w3resource', (0, -1), [5, 12], {\"class\":'V', \"section\":'A'}]\n",
    "for i in list:\n",
    "    print(type(i))"
   ]
  },
  {
   "cell_type": "code",
   "execution_count": 21,
   "id": "c2e9ee73",
   "metadata": {},
   "outputs": [
    {
     "name": "stdout",
     "output_type": "stream",
     "text": [
      "1 2 4 5 7 8 10 11 13 14 "
     ]
    }
   ],
   "source": [
    "#don't print the multiples of 3\n",
    "list=[1,2,3,4,5,6,7,8,9,10,11,12,13,14,15]\n",
    "for i in list:\n",
    "    if i%3==0:\n",
    "        continue\n",
    "    else:\n",
    "        print(i,end=' ')"
   ]
  },
  {
   "cell_type": "code",
   "execution_count": 52,
   "id": "d0de0273",
   "metadata": {},
   "outputs": [
    {
     "name": "stdout",
     "output_type": "stream",
     "text": [
      "1 2 3 5 8 13 21 34 55 "
     ]
    }
   ],
   "source": [
    "#fibanacci series from 0 to 100:\n",
    "i=0\n",
    "j=1\n",
    "for f in range(1,10):\n",
    "    m=i+j\n",
    "    i=j\n",
    "    j=m\n",
    "    print(m,end=' ')"
   ]
  },
  {
   "cell_type": "code",
   "execution_count": 54,
   "id": "f40749c2",
   "metadata": {},
   "outputs": [
    {
     "name": "stdout",
     "output_type": "stream",
     "text": [
      "1\n",
      "9\n"
     ]
    }
   ],
   "source": [
    "#calculating the digits and numbers\n",
    "string='W3 Resource'\n",
    "digit=0\n",
    "alpha=0\n",
    "for i in string:\n",
    "    if i.isdigit():\n",
    "        digit=digit+1\n",
    "    elif i.isalpha():\n",
    "        alpha=alpha+1\n",
    "print(digit)\n",
    "print(alpha)"
   ]
  }
 ],
 "metadata": {
  "kernelspec": {
   "display_name": "Python 3 (ipykernel)",
   "language": "python",
   "name": "python3"
  },
  "language_info": {
   "codemirror_mode": {
    "name": "ipython",
    "version": 3
   },
   "file_extension": ".py",
   "mimetype": "text/x-python",
   "name": "python",
   "nbconvert_exporter": "python",
   "pygments_lexer": "ipython3",
   "version": "3.11.4"
  }
 },
 "nbformat": 4,
 "nbformat_minor": 5
}
