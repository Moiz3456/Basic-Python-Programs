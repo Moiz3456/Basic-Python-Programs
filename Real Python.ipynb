{
 "cells": [
  {
   "cell_type": "code",
   "execution_count": null,
   "id": "1c88d0c9",
   "metadata": {},
   "outputs": [],
   "source": [
    "!pip install jupyterthemes"
   ]
  },
  {
   "cell_type": "code",
   "execution_count": 8,
   "id": "fa19f89d",
   "metadata": {},
   "outputs": [
    {
     "ename": "NameError",
     "evalue": "name 'python' is not defined",
     "output_type": "error",
     "traceback": [
      "\u001b[1;31m---------------------------------------------------------------------------\u001b[0m",
      "\u001b[1;31mNameError\u001b[0m                                 Traceback (most recent call last)",
      "Cell \u001b[1;32mIn[8], line 1\u001b[0m\n\u001b[1;32m----> 1\u001b[0m \u001b[43mpython\u001b[49m \u001b[38;5;241m-\u001b[39m\u001b[38;5;241m-\u001b[39mversion\n",
      "\u001b[1;31mNameError\u001b[0m: name 'python' is not defined"
     ]
    }
   ],
   "source": [
    "python --version"
   ]
  },
  {
   "cell_type": "code",
   "execution_count": 9,
   "id": "ba9d1784",
   "metadata": {},
   "outputs": [
    {
     "name": "stdout",
     "output_type": "stream",
     "text": [
      "Python 3.11.4\n"
     ]
    }
   ],
   "source": [
    "!python --version"
   ]
  },
  {
   "cell_type": "code",
   "execution_count": 10,
   "id": "9b9148ff",
   "metadata": {},
   "outputs": [
    {
     "name": "stdout",
     "output_type": "stream",
     "text": [
      "Hello World\n"
     ]
    }
   ],
   "source": [
    "print(\"Hello World\")"
   ]
  },
  {
   "cell_type": "code",
   "execution_count": 11,
   "id": "5902f10a",
   "metadata": {},
   "outputs": [
    {
     "ename": "NameError",
     "evalue": "name 'Hello' is not defined",
     "output_type": "error",
     "traceback": [
      "\u001b[1;31m---------------------------------------------------------------------------\u001b[0m",
      "\u001b[1;31mNameError\u001b[0m                                 Traceback (most recent call last)",
      "Cell \u001b[1;32mIn[11], line 1\u001b[0m\n\u001b[1;32m----> 1\u001b[0m \u001b[38;5;28mprint\u001b[39m(\u001b[43mHello\u001b[49m, World)\n",
      "\u001b[1;31mNameError\u001b[0m: name 'Hello' is not defined"
     ]
    }
   ],
   "source": [
    "print(Hello, World)"
   ]
  },
  {
   "cell_type": "code",
   "execution_count": 13,
   "id": "3080105b",
   "metadata": {},
   "outputs": [],
   "source": [
    "x='kingkong'"
   ]
  },
  {
   "cell_type": "code",
   "execution_count": 14,
   "id": "5d782e38",
   "metadata": {},
   "outputs": [
    {
     "data": {
      "text/plain": [
       "8"
      ]
     },
     "execution_count": 14,
     "metadata": {},
     "output_type": "execute_result"
    }
   ],
   "source": [
    "len(x)"
   ]
  },
  {
   "cell_type": "code",
   "execution_count": 15,
   "id": "fa22fdbc",
   "metadata": {},
   "outputs": [
    {
     "data": {
      "text/plain": [
       "'KINGKONG'"
      ]
     },
     "execution_count": 15,
     "metadata": {},
     "output_type": "execute_result"
    }
   ],
   "source": [
    "x.upper()"
   ]
  },
  {
   "cell_type": "code",
   "execution_count": 16,
   "id": "6e888fb7",
   "metadata": {},
   "outputs": [
    {
     "data": {
      "text/plain": [
       "'kingkong'"
      ]
     },
     "execution_count": 16,
     "metadata": {},
     "output_type": "execute_result"
    }
   ],
   "source": [
    "x.lower()"
   ]
  },
  {
   "cell_type": "code",
   "execution_count": 17,
   "id": "fb6f8549",
   "metadata": {},
   "outputs": [],
   "source": [
    "long_string='This is the multiline string and is \\\n",
    "displayed on the screen'"
   ]
  },
  {
   "cell_type": "code",
   "execution_count": 18,
   "id": "79fc252e",
   "metadata": {},
   "outputs": [
    {
     "name": "stdout",
     "output_type": "stream",
     "text": [
      "This is the multiline string and is displayed on the screen\n"
     ]
    }
   ],
   "source": [
    "print(long_string)"
   ]
  },
  {
   "cell_type": "code",
   "execution_count": 19,
   "id": "76e37f2f",
   "metadata": {},
   "outputs": [
    {
     "data": {
      "text/plain": [
       "'This is the multiline string and is displayed on the screen'"
      ]
     },
     "execution_count": 19,
     "metadata": {},
     "output_type": "execute_result"
    }
   ],
   "source": [
    "long_string"
   ]
  },
  {
   "cell_type": "code",
   "execution_count": 23,
   "id": "6a92d149",
   "metadata": {},
   "outputs": [
    {
     "name": "stdout",
     "output_type": "stream",
     "text": [
      "kingkongThis is the multiline string and is displayed on the screen\n",
      "kingkong This is the multiline string and is displayed on the screen\n"
     ]
    }
   ],
   "source": [
    "#concatenating\n",
    "c=x+long_string\n",
    "print(c)\n",
    "c=x+' '+long_string\n",
    "print(c)"
   ]
  },
  {
   "cell_type": "code",
   "execution_count": 4,
   "id": "1d4cc010",
   "metadata": {},
   "outputs": [
    {
     "name": "stdout",
     "output_type": "stream",
     "text": [
      "Enter a word:\n",
      "King\n",
      "So the first letter of that word is K\n"
     ]
    }
   ],
   "source": [
    "x=input(\"Enter a word:\\n\")\n",
    "print(\"So the first letter of that word is\", x[0])"
   ]
  },
  {
   "cell_type": "code",
   "execution_count": 7,
   "id": "ee71b321",
   "metadata": {},
   "outputs": [
    {
     "name": "stdout",
     "output_type": "stream",
     "text": [
      "1 2 3 4 5 6 7 8 9 "
     ]
    }
   ],
   "source": [
    "for i in range(1,10):\n",
    "    print(i,end=' ')"
   ]
  },
  {
   "cell_type": "code",
   "execution_count": 8,
   "id": "3f63058b",
   "metadata": {},
   "outputs": [
    {
     "name": "stdout",
     "output_type": "stream",
     "text": [
      "40\n"
     ]
    }
   ],
   "source": [
    "k='10'\n",
    "m=int(k)\n",
    "print(m*4)"
   ]
  },
  {
   "cell_type": "code",
   "execution_count": 9,
   "id": "209fa784",
   "metadata": {},
   "outputs": [
    {
     "name": "stdout",
     "output_type": "stream",
     "text": [
      "41.2\n"
     ]
    }
   ],
   "source": [
    "k='10.3'\n",
    "m=float(k)\n",
    "print(m*4)"
   ]
  },
  {
   "cell_type": "code",
   "execution_count": 10,
   "id": "ecc60850",
   "metadata": {},
   "outputs": [
    {
     "name": "stdout",
     "output_type": "stream",
     "text": [
      "10\n"
     ]
    }
   ],
   "source": [
    "k=10\n",
    "print(str(k))"
   ]
  },
  {
   "cell_type": "code",
   "execution_count": 11,
   "id": "14c9ae01",
   "metadata": {},
   "outputs": [
    {
     "data": {
      "text/plain": [
       "4"
      ]
     },
     "execution_count": 11,
     "metadata": {},
     "output_type": "execute_result"
    }
   ],
   "source": [
    "phrase='The surprise is in here somewhere'\n",
    "phrase.find('surprise')"
   ]
  },
  {
   "cell_type": "code",
   "execution_count": 12,
   "id": "cc4a0f8f",
   "metadata": {},
   "outputs": [
    {
     "data": {
      "text/plain": [
       "1.7279999999999998"
      ]
     },
     "execution_count": 12,
     "metadata": {},
     "output_type": "execute_result"
    }
   ],
   "source": [
    "1.2**3"
   ]
  },
  {
   "cell_type": "code",
   "execution_count": 14,
   "id": "6b8c9443",
   "metadata": {},
   "outputs": [
    {
     "data": {
      "text/plain": [
       "0.30000000000000004"
      ]
     },
     "execution_count": 14,
     "metadata": {},
     "output_type": "execute_result"
    }
   ],
   "source": [
    "0.1+0.2"
   ]
  },
  {
   "cell_type": "code",
   "execution_count": 15,
   "id": "54dcfa8b",
   "metadata": {},
   "outputs": [
    {
     "data": {
      "text/plain": [
       "2"
      ]
     },
     "execution_count": 15,
     "metadata": {},
     "output_type": "execute_result"
    }
   ],
   "source": [
    "round(2.5)"
   ]
  },
  {
   "cell_type": "code",
   "execution_count": 16,
   "id": "c2b7d222",
   "metadata": {},
   "outputs": [
    {
     "data": {
      "text/plain": [
       "3"
      ]
     },
     "execution_count": 16,
     "metadata": {},
     "output_type": "execute_result"
    }
   ],
   "source": [
    "round(2.6)"
   ]
  },
  {
   "cell_type": "code",
   "execution_count": 18,
   "id": "43e24cc2",
   "metadata": {},
   "outputs": [
    {
     "data": {
      "text/plain": [
       "1.7279999999999998"
      ]
     },
     "execution_count": 18,
     "metadata": {},
     "output_type": "execute_result"
    }
   ],
   "source": [
    "pow(1.2,3)"
   ]
  },
  {
   "cell_type": "code",
   "execution_count": 19,
   "id": "8050d33f",
   "metadata": {},
   "outputs": [
    {
     "data": {
      "text/plain": [
       "34.34"
      ]
     },
     "execution_count": 19,
     "metadata": {},
     "output_type": "execute_result"
    }
   ],
   "source": [
    "round(34.34,3)"
   ]
  },
  {
   "cell_type": "code",
   "execution_count": 20,
   "id": "c90ab9f1",
   "metadata": {},
   "outputs": [
    {
     "data": {
      "text/plain": [
       "34.3"
      ]
     },
     "execution_count": 20,
     "metadata": {},
     "output_type": "execute_result"
    }
   ],
   "source": [
    "round(34.34,1)"
   ]
  },
  {
   "cell_type": "code",
   "execution_count": 21,
   "id": "333ea7d9",
   "metadata": {},
   "outputs": [
    {
     "name": "stdout",
     "output_type": "stream",
     "text": [
      "The value of n is 7.125\n"
     ]
    }
   ],
   "source": [
    "n=7.125\n",
    "print(f\"The value of n is {n}\")"
   ]
  },
  {
   "cell_type": "code",
   "execution_count": 22,
   "id": "520cb4c9",
   "metadata": {},
   "outputs": [
    {
     "data": {
      "text/plain": [
       "'The value of n is 7.12'"
      ]
     },
     "execution_count": 22,
     "metadata": {},
     "output_type": "execute_result"
    }
   ],
   "source": [
    "f\"The value of n is {n:.2f}\""
   ]
  },
  {
   "cell_type": "code",
   "execution_count": 24,
   "id": "db2b373d",
   "metadata": {},
   "outputs": [
    {
     "data": {
      "text/plain": [
       "1.147202690439877"
      ]
     },
     "execution_count": 24,
     "metadata": {},
     "output_type": "execute_result"
    }
   ],
   "source": [
    "3**.125"
   ]
  },
  {
   "cell_type": "code",
   "execution_count": 25,
   "id": "93c1cfd5",
   "metadata": {},
   "outputs": [
    {
     "data": {
      "text/plain": [
       "builtin_function_or_method"
      ]
     },
     "execution_count": 25,
     "metadata": {},
     "output_type": "execute_result"
    }
   ],
   "source": [
    "type(len)"
   ]
  },
  {
   "cell_type": "code",
   "execution_count": 31,
   "id": "0d80e68c",
   "metadata": {},
   "outputs": [
    {
     "name": "stdout",
     "output_type": "stream",
     "text": [
      "0.7662479742909926\n"
     ]
    }
   ],
   "source": [
    "import random\n",
    "print(random.random())"
   ]
  },
  {
   "cell_type": "code",
   "execution_count": 46,
   "id": "b8510aaf",
   "metadata": {},
   "outputs": [
    {
     "name": "stdout",
     "output_type": "stream",
     "text": [
      "12\n",
      "15\n",
      "12\n",
      "11\n",
      "12\n",
      "6\n"
     ]
    }
   ],
   "source": [
    "import random\n",
    "c=0\n",
    "p=0\n",
    "m=0\n",
    "j=0\n",
    "k=0\n",
    "l=0\n",
    "for i in range(1,1000):\n",
    "    z=random.random()\n",
    "    z=round(z,2)\n",
    "    if z==0.17:\n",
    "        c=c+1\n",
    "    if z==0.65:\n",
    "        p=p+1\n",
    "    if z==0.17:\n",
    "        m=m+1\n",
    "    if z==0.13:\n",
    "        j=j+1\n",
    "    if z==0.35:\n",
    "        k=k+1\n",
    "    if z==0.83:\n",
    "        l=l+1\n",
    "print(c)\n",
    "print(p)\n",
    "print(m)\n",
    "print(j)\n",
    "print(k)\n",
    "print(l)"
   ]
  },
  {
   "cell_type": "code",
   "execution_count": 1,
   "id": "4a886c12",
   "metadata": {},
   "outputs": [
    {
     "name": "stdout",
     "output_type": "stream",
     "text": [
      "Collecting easygui\n",
      "  Downloading easygui-0.98.3-py2.py3-none-any.whl (92 kB)\n",
      "                                              0.0/92.7 kB ? eta -:--:--\n",
      "     ---------------------------------------  92.2/92.7 kB ? eta -:--:--\n",
      "     ---------------------------------------- 92.7/92.7 kB 1.8 MB/s eta 0:00:00\n",
      "Installing collected packages: easygui\n",
      "Successfully installed easygui-0.98.3\n"
     ]
    },
    {
     "name": "stderr",
     "output_type": "stream",
     "text": [
      "\n",
      "[notice] A new release of pip is available: 23.1.2 -> 23.3.2\n",
      "[notice] To update, run: python.exe -m pip install --upgrade pip\n"
     ]
    }
   ],
   "source": [
    "!pip install easygui"
   ]
  },
  {
   "cell_type": "code",
   "execution_count": 4,
   "id": "36128b0a",
   "metadata": {},
   "outputs": [
    {
     "data": {
      "text/plain": [
       "'OK'"
      ]
     },
     "execution_count": 4,
     "metadata": {},
     "output_type": "execute_result"
    }
   ],
   "source": [
    "import easygui as gui\n",
    "gui.msgbox(msg=\"Welcome for the second time\",title=\"My Page@\")"
   ]
  },
  {
   "cell_type": "code",
   "execution_count": 5,
   "id": "72f99df3",
   "metadata": {},
   "outputs": [
    {
     "data": {
      "text/plain": [
       "'red'"
      ]
     },
     "execution_count": 5,
     "metadata": {},
     "output_type": "execute_result"
    }
   ],
   "source": [
    "gui.buttonbox(msg='Choose your favorite Color',title=\"Guiz Game\",choices=(\"red\",\"Yellow\",'White'))"
   ]
  },
  {
   "cell_type": "code",
   "execution_count": 6,
   "id": "3f1a4bf1",
   "metadata": {},
   "outputs": [
    {
     "data": {
      "text/plain": [
       "1"
      ]
     },
     "execution_count": 6,
     "metadata": {},
     "output_type": "execute_result"
    }
   ],
   "source": [
    "gui.indexbox(msg='Choose your favorite Color',title=\"Guiz Game\",choices=(\"red\",\"Yellow\",'White'))"
   ]
  },
  {
   "cell_type": "code",
   "execution_count": 7,
   "id": "3319f206",
   "metadata": {},
   "outputs": [
    {
     "data": {
      "text/plain": [
       "'King'"
      ]
     },
     "execution_count": 7,
     "metadata": {},
     "output_type": "execute_result"
    }
   ],
   "source": [
    "gui.enterbox(msg='What is your favorite color',title=\"please don't miss to write something\")"
   ]
  },
  {
   "cell_type": "code",
   "execution_count": 8,
   "id": "4ada49b7",
   "metadata": {},
   "outputs": [
    {
     "data": {
      "text/plain": [
       "'G:\\\\jupyter\\\\Real Python.ipynb'"
      ]
     },
     "execution_count": 8,
     "metadata": {},
     "output_type": "execute_result"
    }
   ],
   "source": [
    "gui.fileopenbox(title=\"please select a file\")"
   ]
  },
  {
   "cell_type": "code",
   "execution_count": null,
   "id": "2c041d2e",
   "metadata": {},
   "outputs": [],
   "source": [
    "path=gui.fileopenbox(title='select a file')\n",
    "if path is None:\n",
    "    exit()"
   ]
  },
  {
   "cell_type": "code",
   "execution_count": 2,
   "id": "16d6fe00",
   "metadata": {},
   "outputs": [],
   "source": [
    "#Python for Professionals"
   ]
  },
  {
   "cell_type": "code",
   "execution_count": 15,
   "id": "adfed3b3",
   "metadata": {},
   "outputs": [
    {
     "name": "stdout",
     "output_type": "stream",
     "text": [
      "2024-01-02 19:31:37.091696\n",
      "3146 days, 19:31:37.091696\n"
     ]
    }
   ],
   "source": [
    "from datetime import datetime\n",
    "d=datetime.now()\n",
    "print(d)\n",
    "n=datetime(2015,5,23)\n",
    "print(d-n)"
   ]
  },
  {
   "cell_type": "code",
   "execution_count": 25,
   "id": "fc2a1ce2",
   "metadata": {},
   "outputs": [
    {
     "name": "stdout",
     "output_type": "stream",
     "text": [
      "2024-01-02\n"
     ]
    }
   ],
   "source": [
    "import datetime\n",
    "print(datetime.date.today())"
   ]
  },
  {
   "cell_type": "code",
   "execution_count": 26,
   "id": "b21d494a",
   "metadata": {},
   "outputs": [
    {
     "name": "stdout",
     "output_type": "stream",
     "text": [
      "2024-01-02\n",
      "2024-01-03\n",
      "2024-01-04\n",
      "2024-01-05\n",
      "2024-01-06\n",
      "2024-01-07\n",
      "2024-01-08\n"
     ]
    }
   ],
   "source": [
    "import datetime\n",
    "d=datetime.timedelta(days=1)\n",
    "startdate=datetime.date.today()\n",
    "enddate=startdate+7*d\n",
    "for i in range((enddate-startdate).days):\n",
    "    print(startdate+i*d)"
   ]
  },
  {
   "cell_type": "code",
   "execution_count": 36,
   "id": "f9f6edbf",
   "metadata": {},
   "outputs": [
    {
     "name": "stdout",
     "output_type": "stream",
     "text": [
      "2024-01-02\n"
     ]
    }
   ],
   "source": [
    "import datetime\n",
    "print(datetime.date.today())"
   ]
  },
  {
   "cell_type": "code",
   "execution_count": 38,
   "id": "d94c2b3d",
   "metadata": {},
   "outputs": [
    {
     "data": {
      "text/plain": [
       "915"
      ]
     },
     "execution_count": 38,
     "metadata": {},
     "output_type": "execute_result"
    }
   ],
   "source": [
    "13+15+92+35+43+87+40+80+35+41+98+93+33+41+44+47+35+43"
   ]
  },
  {
   "cell_type": "code",
   "execution_count": 16,
   "id": "0032c607",
   "metadata": {},
   "outputs": [],
   "source": [
    "# challenge 6.5\n",
    "def invest(amount,rate,years):\n",
    "    for i in range(1,years):\n",
    "        amount=amount+(amount*(rate/100))\n",
    "        print(f\"Year {i} is {amount:.2f}\")"
   ]
  },
  {
   "cell_type": "code",
   "execution_count": 18,
   "id": "c3ffc13d",
   "metadata": {},
   "outputs": [
    {
     "name": "stdout",
     "output_type": "stream",
     "text": [
      "Year 1 is 105.00\n"
     ]
    }
   ],
   "source": [
    "\n",
    "invest(100,5,5)"
   ]
  },
  {
   "cell_type": "code",
   "execution_count": 14,
   "id": "b436b341",
   "metadata": {
    "scrolled": true
   },
   "outputs": [
    {
     "name": "stdout",
     "output_type": "stream",
     "text": [
      "Enter a number345\n",
      "1 is the Factor ofa 345\n",
      "3 is the Factor ofa 345\n",
      "5 is the Factor ofa 345\n",
      "15 is the Factor ofa 345\n",
      "23 is the Factor ofa 345\n",
      "69 is the Factor ofa 345\n",
      "115 is the Factor ofa 345\n",
      "345 is the Factor ofa 345\n"
     ]
    }
   ],
   "source": [
    "# Challenge 8.4 \n",
    "# Find the factors of the given number\n",
    "\n",
    "num=int(input(\"Enter a number\"))\n",
    "if num>0:\n",
    "    for i in range(1,num+1):\n",
    "        if num%i==0:\n",
    "            print(f\"{i} is the Factor ofa {num}\")\n",
    "else:\n",
    "    print(\"Entered number is not in correct format\")"
   ]
  },
  {
   "cell_type": "code",
   "execution_count": null,
   "id": "ddc2bb8d",
   "metadata": {},
   "outputs": [],
   "source": []
  }
 ],
 "metadata": {
  "kernelspec": {
   "display_name": "Python 3 (ipykernel)",
   "language": "python",
   "name": "python3"
  },
  "language_info": {
   "codemirror_mode": {
    "name": "ipython",
    "version": 3
   },
   "file_extension": ".py",
   "mimetype": "text/x-python",
   "name": "python",
   "nbconvert_exporter": "python",
   "pygments_lexer": "ipython3",
   "version": "3.10.7"
  }
 },
 "nbformat": 4,
 "nbformat_minor": 5
}
