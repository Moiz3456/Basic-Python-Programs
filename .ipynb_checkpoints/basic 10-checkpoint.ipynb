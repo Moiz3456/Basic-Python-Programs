{
 "cells": [
  {
   "cell_type": "code",
   "execution_count": 2,
   "id": "c8807298",
   "metadata": {},
   "outputs": [
    {
     "name": "stdout",
     "output_type": "stream",
     "text": [
      "3.11.4 (tags/v3.11.4:d2340ef, Jun  7 2023, 05:45:37) [MSC v.1934 64 bit (AMD64)]\n",
      "sys.version_info(major=3, minor=11, micro=4, releaselevel='final', serial=0)\n"
     ]
    }
   ],
   "source": [
    "#system python version\n",
    "\n",
    "import sys\n",
    "print(sys.version)\n",
    "print(sys.version_info)"
   ]
  },
  {
   "cell_type": "code",
   "execution_count": 11,
   "id": "39b658c2",
   "metadata": {},
   "outputs": [
    {
     "name": "stdout",
     "output_type": "stream",
     "text": [
      "2023/56/07/20/23 18:56:41\n"
     ]
    }
   ],
   "source": [
    "#check present date and time\n",
    "\n",
    "import datetime\n",
    "k=datetime.datetime.now()\n",
    "print(k.strftime(\"%Y/%M/%D %H:%M:%S\"))"
   ]
  },
  {
   "cell_type": "code",
   "execution_count": 12,
   "id": "78020dee",
   "metadata": {},
   "outputs": [
    {
     "name": "stdout",
     "output_type": "stream",
     "text": [
      "50.26548245743669\n"
     ]
    }
   ],
   "source": [
    "#area of circle\n",
    "import math\n",
    "r=4\n",
    "area=math.pi*pow(r,2)\n",
    "print(area)"
   ]
  },
  {
   "cell_type": "code",
   "execution_count": 3,
   "id": "5b430f2d",
   "metadata": {},
   "outputs": [
    {
     "name": "stdout",
     "output_type": "stream",
     "text": [
      "Enter the values1,2,3,4\n",
      "('1', '2', '3', '4')\n",
      "['1', '2', '3', '4']\n"
     ]
    }
   ],
   "source": [
    "#seperate the values in the lists and tuples\n",
    "k=input(\"Enter the values\")\n",
    "l=list(k.split(','))\n",
    "t=tuple(k.split(','))\n",
    "print(t)\n",
    "print(l)\n",
    "\n"
   ]
  },
  {
   "cell_type": "code",
   "execution_count": 8,
   "id": "20880cd1",
   "metadata": {},
   "outputs": [
    {
     "name": "stdout",
     "output_type": "stream",
     "text": [
      "Enter the file with its extension\n",
      "file.java\n",
      "java\n"
     ]
    }
   ],
   "source": [
    "#print the type of file name from file\n",
    "inp=input(\"Enter the file with its extension\\n\")\n",
    "ex=inp.split('.')\n",
    "print(ex[-1])"
   ]
  },
  {
   "cell_type": "code",
   "execution_count": 9,
   "id": "c3241827",
   "metadata": {},
   "outputs": [
    {
     "name": "stdout",
     "output_type": "stream",
     "text": [
      "king worker\n"
     ]
    }
   ],
   "source": [
    "#programs to display the first and last words in list\n",
    "k=['king','queen','minister','worker']\n",
    "print(k[0],k[-1])"
   ]
  },
  {
   "cell_type": "code",
   "execution_count": 11,
   "id": "04b13ed9",
   "metadata": {},
   "outputs": [
    {
     "name": "stdout",
     "output_type": "stream",
     "text": [
      "Return the absolute value of the argument.\n"
     ]
    }
   ],
   "source": [
    "#document syntax\n",
    "print(abs.__doc__)"
   ]
  },
  {
   "cell_type": "code",
   "execution_count": 23,
   "id": "92a1b528",
   "metadata": {},
   "outputs": [
    {
     "name": "stdout",
     "output_type": "stream",
     "text": [
      "     April 2012\n",
      "Mo Tu We Th Fr Sa Su\n",
      "                   1\n",
      " 2  3  4  5  6  7  8\n",
      " 9 10 11 12 13 14 15\n",
      "16 17 18 19 20 21 22\n",
      "23 24 25 26 27 28 29\n",
      "30\n",
      "\n"
     ]
    }
   ],
   "source": [
    "#calendar of given month and year\n",
    "import calendar\n",
    "print(calendar.month(2012,4))"
   ]
  },
  {
   "cell_type": "code",
   "execution_count": 34,
   "id": "03ff9042",
   "metadata": {},
   "outputs": [
    {
     "name": "stdout",
     "output_type": "stream",
     "text": [
      "396\n"
     ]
    }
   ],
   "source": [
    "#calculate the differnce betwween the dates\n",
    "import datetime\n",
    "from_date=date(2013,7,24)\n",
    "to_date=date(2014,8,24)\n",
    "diff=to_date-from_date\n",
    "print(diff.days)"
   ]
  },
  {
   "cell_type": "code",
   "execution_count": 36,
   "id": "5bb6e8f6",
   "metadata": {},
   "outputs": [
    {
     "name": "stdout",
     "output_type": "stream",
     "text": [
      "268.082573106329\n"
     ]
    }
   ],
   "source": [
    "#volume of the sphere\n",
    "import math\n",
    "r=4\n",
    "v=4/3*(math.pi*pow(r,3))\n",
    "print(v)"
   ]
  },
  {
   "cell_type": "code",
   "execution_count": 59,
   "id": "20697824",
   "metadata": {},
   "outputs": [
    {
     "name": "stdout",
     "output_type": "stream",
     "text": [
      "Enter the numbers1 2 3\n",
      "6\n"
     ]
    }
   ],
   "source": [
    "#sum of three given numbers\n",
    "num=(input(\"Enter the numbers\"))\n",
    "num=num.split()\n",
    "f=[int(x) for x in num]\n",
    "print(sum(f))"
   ]
  },
  {
   "cell_type": "code",
   "execution_count": 63,
   "id": "8fa76157",
   "metadata": {},
   "outputs": [
    {
     "name": "stdout",
     "output_type": "stream",
     "text": [
      "Enter the string\n",
      "king\n",
      "isking\n"
     ]
    }
   ],
   "source": [
    "#add 'is' in front. if there is added, return the same string\n",
    "string=input(\"Enter the string\\n\")\n",
    "if string.startswith('is'):\n",
    "    print(string)\n",
    "else:\n",
    "    print('is'+string)"
   ]
  },
  {
   "cell_type": "code",
   "execution_count": 65,
   "id": "f99ca89b",
   "metadata": {},
   "outputs": [
    {
     "name": "stdout",
     "output_type": "stream",
     "text": [
      "Enter the stringmo\n",
      "Number of copies3\n",
      "momomo\n"
     ]
    }
   ],
   "source": [
    "#string with number of copies\n",
    "inp=input(\"Enter the string\")\n",
    "cop=input(\"Number of copies\")\n",
    "print(int(cop)*inp)"
   ]
  },
  {
   "cell_type": "code",
   "execution_count": 67,
   "id": "2e77be6a",
   "metadata": {},
   "outputs": [
    {
     "name": "stdout",
     "output_type": "stream",
     "text": [
      "Enter the number3\n",
      "Odd\n"
     ]
    }
   ],
   "source": [
    "#even or odd\n",
    "num=input(\"Enter the number\")\n",
    "if int(num)%2==0:\n",
    "    print(\"Even\")\n",
    "else:\n",
    "    print(\"Odd\")"
   ]
  },
  {
   "cell_type": "code",
   "execution_count": 68,
   "id": "0d7702cc",
   "metadata": {},
   "outputs": [
    {
     "name": "stdout",
     "output_type": "stream",
     "text": [
      "4\n"
     ]
    }
   ],
   "source": [
    "#counting the number\n",
    "k=[1,2,3,4,4,4,4,5,6]\n",
    "print(k.count(4))"
   ]
  },
  {
   "cell_type": "code",
   "execution_count": 78,
   "id": "3f866950",
   "metadata": {},
   "outputs": [
    {
     "name": "stdout",
     "output_type": "stream",
     "text": [
      "Enter the string\n",
      "KONG NKONG\n",
      "KOKOKOKO\n"
     ]
    }
   ],
   "source": [
    "#entering the n copies of first two character of string\n",
    "string=input(\"Enter the string\\n\")\n",
    "n=4\n",
    "for i in string:\n",
    "    k=string[:2]\n",
    "if len(string)<2:\n",
    "    print(string)\n",
    "else:\n",
    "    print(k*n)"
   ]
  },
  {
   "cell_type": "code",
   "execution_count": 81,
   "id": "085ea042",
   "metadata": {},
   "outputs": [
    {
     "name": "stdout",
     "output_type": "stream",
     "text": [
      "Enter the lettere\n",
      "It is vowel\n"
     ]
    }
   ],
   "source": [
    "#vowel or not\n",
    "k=['a','e','i','o','u']\n",
    "f=input(\"Enter the letter\")\n",
    "if f in k:\n",
    "    print(\"It is vowel\")\n",
    "else:\n",
    "    print(\"It is not vowel\")\n",
    "    "
   ]
  },
  {
   "cell_type": "code",
   "execution_count": 84,
   "id": "5666ca82",
   "metadata": {},
   "outputs": [
    {
     "name": "stdout",
     "output_type": "stream",
     "text": [
      "Enter the numbers2 3 5 1 6 7 2 0\n",
      "@@\n",
      "@@@\n",
      "@@@@@\n",
      "@\n",
      "@@@@@@\n",
      "@@@@@@@\n",
      "@@\n",
      "\n"
     ]
    }
   ],
   "source": [
    "#create histogram from the given list of integers\n",
    "k=input(\"Enter the numbers\")\n",
    "values=k.split()\n",
    "val=[int(x) for x in values]\n",
    "for i in val:\n",
    "    print(i*'@')"
   ]
  },
  {
   "cell_type": "code",
   "execution_count": 95,
   "id": "344bcfd4",
   "metadata": {},
   "outputs": [
    {
     "name": "stdout",
     "output_type": "stream",
     "text": [
      "kingqueensondaughter\n",
      "<class 'str'>\n"
     ]
    }
   ],
   "source": [
    "#concating all the elements in the list\n",
    "l=['king','queen','son','daughter']\n",
    "l=''.join(l)\n",
    "print(l)"
   ]
  },
  {
   "cell_type": "code",
   "execution_count": 102,
   "id": "dfec92a1",
   "metadata": {},
   "outputs": [
    {
     "name": "stdout",
     "output_type": "stream",
     "text": [
      "{'white', 'black', 'green', 'gold'}\n",
      "{'brown', 'grey', 'pink', 'blue'}\n"
     ]
    }
   ],
   "source": [
    "#return the different colors which are not in list 2 from list 1\n",
    "list1=set(['white','black','gold','green'])\n",
    "list2=set(['grey','pink','blue','brown'])\n",
    "print(list1.difference(list2))\n",
    "print(list2.difference(list1))"
   ]
  },
  {
   "cell_type": "code",
   "execution_count": 103,
   "id": "8523229b",
   "metadata": {},
   "outputs": [
    {
     "name": "stdout",
     "output_type": "stream",
     "text": [
      "75.0\n"
     ]
    }
   ],
   "source": [
    "#area of the triangle\n",
    "b=10\n",
    "h=15\n",
    "area=0.5*b*h\n",
    "print(area)"
   ]
  },
  {
   "cell_type": "code",
   "execution_count": 18,
   "id": "244265a7",
   "metadata": {},
   "outputs": [
    {
     "name": "stdout",
     "output_type": "stream",
     "text": [
      "enter the numbers12 2 33\n",
      "[12, 2, 33]\n"
     ]
    }
   ],
   "source": [
    "#various ways of taking input\n",
    "#take numbers with spaces and place them in list\n",
    "num=(input(\"enter the numbers\"))\n",
    "num=(num.split())\n",
    "m=[int(x) for x in num]\n",
    "print(m)"
   ]
  },
  {
   "cell_type": "code",
   "execution_count": 1,
   "id": "1c857bff",
   "metadata": {},
   "outputs": [],
   "source": [
    "#take numbers as strings in spaces and place them"
   ]
  },
  {
   "cell_type": "code",
   "execution_count": 2,
   "id": "e75aaf26",
   "metadata": {},
   "outputs": [
    {
     "ename": "TypeError",
     "evalue": "'int' object is not iterable",
     "output_type": "error",
     "traceback": [
      "\u001b[1;31m---------------------------------------------------------------------------\u001b[0m",
      "\u001b[1;31mTypeError\u001b[0m                                 Traceback (most recent call last)",
      "Cell \u001b[1;32mIn[2], line 2\u001b[0m\n\u001b[0;32m      1\u001b[0m a\u001b[38;5;241m=\u001b[39m\u001b[38;5;241m24\u001b[39m\n\u001b[1;32m----> 2\u001b[0m \u001b[38;5;28;01mfor\u001b[39;00m i \u001b[38;5;129;01min\u001b[39;00m a:\n\u001b[0;32m      3\u001b[0m     \u001b[38;5;28mprint\u001b[39m(i)\n",
      "\u001b[1;31mTypeError\u001b[0m: 'int' object is not iterable"
     ]
    }
   ],
   "source": [
    "a=24\n",
    "for i in a:\n",
    "    print(i)"
   ]
  },
  {
   "cell_type": "code",
   "execution_count": 7,
   "id": "8830d851",
   "metadata": {},
   "outputs": [
    {
     "name": "stdout",
     "output_type": "stream",
     "text": [
      "24\n",
      "24\n"
     ]
    }
   ],
   "source": [
    "a='24'\n",
    "for i in a:\n",
    "    print(a)"
   ]
  },
  {
   "cell_type": "code",
   "execution_count": 8,
   "id": "a6a39b9b",
   "metadata": {},
   "outputs": [
    {
     "name": "stdout",
     "output_type": "stream",
     "text": [
      "moiz\n",
      "moiz\n",
      "moiz\n",
      "moiz\n"
     ]
    }
   ],
   "source": [
    "m='moiz'\n",
    "for i in m:\n",
    "    print(m)"
   ]
  },
  {
   "cell_type": "code",
   "execution_count": 9,
   "id": "21e69bd2",
   "metadata": {},
   "outputs": [
    {
     "name": "stdout",
     "output_type": "stream",
     "text": [
      "moiz\n"
     ]
    }
   ],
   "source": [
    "print(m)"
   ]
  },
  {
   "cell_type": "code",
   "execution_count": 10,
   "id": "9ab1f19d",
   "metadata": {},
   "outputs": [
    {
     "name": "stdout",
     "output_type": "stream",
     "text": [
      "m\n",
      "o\n",
      "i\n",
      "z\n"
     ]
    }
   ],
   "source": [
    "for i in m:\n",
    "    print(i)"
   ]
  },
  {
   "cell_type": "code",
   "execution_count": null,
   "id": "9509bd13",
   "metadata": {},
   "outputs": [],
   "source": []
  }
 ],
 "metadata": {
  "kernelspec": {
   "display_name": "Python 3 (ipykernel)",
   "language": "python",
   "name": "python3"
  },
  "language_info": {
   "codemirror_mode": {
    "name": "ipython",
    "version": 3
   },
   "file_extension": ".py",
   "mimetype": "text/x-python",
   "name": "python",
   "nbconvert_exporter": "python",
   "pygments_lexer": "ipython3",
   "version": "3.10.7"
  }
 },
 "nbformat": 4,
 "nbformat_minor": 5
}
