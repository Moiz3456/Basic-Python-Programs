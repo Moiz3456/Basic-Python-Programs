{
 "cells": [
  {
   "cell_type": "code",
   "execution_count": 4,
   "id": "f4915257",
   "metadata": {},
   "outputs": [
    {
     "name": "stdout",
     "output_type": "stream",
     "text": [
      "<class 'tuple'>\n",
      "<class 'tuple'>\n",
      "(1, 2, 3, 4)\n"
     ]
    }
   ],
   "source": [
    "#creating a tuple\n",
    "tuplee=(1,2,3,4)\n",
    "tup=('m',1,'2.5')\n",
    "print(type(tup))\n",
    "print(type(tuplee))\n",
    "print(tuplee)"
   ]
  },
  {
   "cell_type": "code",
   "execution_count": 7,
   "id": "ce10716d",
   "metadata": {},
   "outputs": [
    {
     "name": "stdout",
     "output_type": "stream",
     "text": [
      "<class 'tuple'>\n",
      "(1, 2, 3, 4, 5)\n"
     ]
    }
   ],
   "source": [
    "#unpacking a tuple\n",
    "x=1,2,3,4,5\n",
    "print(type(x))\n",
    "print(x)"
   ]
  },
  {
   "cell_type": "code",
   "execution_count": 18,
   "id": "103c671a",
   "metadata": {},
   "outputs": [
    {
     "name": "stdout",
     "output_type": "stream",
     "text": [
      "(1, 2, 3, 4, 5, 6, [50])\n"
     ]
    }
   ],
   "source": [
    "#adding an item to tuple\n",
    "x=(1,2,3,4,5)\n",
    "x=x+(6,)\n",
    "x=x+([50],)\n",
    "print(x)"
   ]
  },
  {
   "cell_type": "code",
   "execution_count": 14,
   "id": "77bfe796",
   "metadata": {},
   "outputs": [
    {
     "name": "stdout",
     "output_type": "stream",
     "text": [
      "king\n"
     ]
    }
   ],
   "source": [
    "#joining the string\n",
    "x=('k','i','n','g')\n",
    "x=''.join(x)\n",
    "print(x)"
   ]
  },
  {
   "cell_type": "code",
   "execution_count": 17,
   "id": "d438eaf9",
   "metadata": {},
   "outputs": [
    {
     "name": "stdout",
     "output_type": "stream",
     "text": [
      "2\n",
      "1\n"
     ]
    }
   ],
   "source": [
    "#indexing aand using count in the tuple\n",
    "x=('k','i','n','g')\n",
    "print(x.index('n'))\n",
    "print(x.count('g'))"
   ]
  },
  {
   "cell_type": "code",
   "execution_count": 19,
   "id": "0448a5c0",
   "metadata": {},
   "outputs": [
    {
     "name": "stdout",
     "output_type": "stream",
     "text": [
      "True\n"
     ]
    }
   ],
   "source": [
    "#checking the existing of items in the tuple\n",
    "x=('k','i','n','g')\n",
    "print('k' in x)"
   ]
  },
  {
   "cell_type": "code",
   "execution_count": 21,
   "id": "81e5fc7a",
   "metadata": {},
   "outputs": [
    {
     "name": "stdout",
     "output_type": "stream",
     "text": [
      "['k', 'i', 'n', 'g']\n",
      "('k', 'i', 'n', 'g')\n"
     ]
    }
   ],
   "source": [
    "#converting the tuple to the list\n",
    "x=('k','i','n','g')\n",
    "print(list(x))\n",
    "print(tuple(x))"
   ]
  },
  {
   "cell_type": "code",
   "execution_count": 25,
   "id": "74ed5fd8",
   "metadata": {},
   "outputs": [
    {
     "name": "stdout",
     "output_type": "stream",
     "text": [
      "('k', 'n', 'g')\n"
     ]
    }
   ],
   "source": [
    "#removing the item from the tuple\n",
    "    #since tuples are immutable, items can't be removed\n",
    "x=('k','i','n','g')\n",
    "x=list(x)\n",
    "x.remove('i')\n",
    "x=tuple(x)\n",
    "print(x)\n"
   ]
  },
  {
   "cell_type": "code",
   "execution_count": 26,
   "id": "b301c74e",
   "metadata": {},
   "outputs": [
    {
     "name": "stdout",
     "output_type": "stream",
     "text": [
      "('i', 'n', 'g')\n"
     ]
    }
   ],
   "source": [
    "#slicing the tuple\n",
    "x=('k','i','n','g')\n",
    "print(x[1:4])"
   ]
  },
  {
   "cell_type": "code",
   "execution_count": 27,
   "id": "3d07f534",
   "metadata": {},
   "outputs": [
    {
     "name": "stdout",
     "output_type": "stream",
     "text": [
      "1\n"
     ]
    }
   ],
   "source": [
    "#finding the index of an item in the tuple\n",
    "x=('k','i','n','g')\n",
    "print(x.index('i'))"
   ]
  },
  {
   "cell_type": "code",
   "execution_count": 28,
   "id": "122ba461",
   "metadata": {},
   "outputs": [
    {
     "name": "stdout",
     "output_type": "stream",
     "text": [
      "4\n"
     ]
    }
   ],
   "source": [
    "#length of the tuple\n",
    "x=('k','i','n','g')\n",
    "print(len(x))"
   ]
  },
  {
   "cell_type": "code",
   "execution_count": 38,
   "id": "87799829",
   "metadata": {},
   "outputs": [
    {
     "name": "stdout",
     "output_type": "stream",
     "text": [
      "{'q': 2, 'r': 3}\n"
     ]
    }
   ],
   "source": [
    "#converting the tuple to a dictionary\n",
    "z=(('q',2),('r',3))\n",
    "print(dict((x,y) for x,y in z))"
   ]
  },
  {
   "cell_type": "code",
   "execution_count": 47,
   "id": "7cab1fc1",
   "metadata": {},
   "outputs": [
    {
     "name": "stdout",
     "output_type": "stream",
     "text": [
      "[['k'], ['i'], ['n'], ['g']]\n"
     ]
    }
   ],
   "source": [
    "#converting all the items in to the lists\n",
    "x=('k','i','n','g')\n",
    "m=[]\n",
    "for i in x:\n",
    "    m.append(list(i))\n",
    "print(m)"
   ]
  },
  {
   "cell_type": "code",
   "execution_count": 51,
   "id": "885f1b84",
   "metadata": {},
   "outputs": [
    {
     "name": "stdout",
     "output_type": "stream",
     "text": [
      "[(1, 3, 8), (2, 4, 9)]\n"
     ]
    }
   ],
   "source": [
    "#use of zip method(use to combine the parallel items)\n",
    "l = [(1,2), (3,4), (8,9)]\n",
    "print(list(zip(*l)))"
   ]
  },
  {
   "cell_type": "code",
   "execution_count": 56,
   "id": "dcb63873",
   "metadata": {},
   "outputs": [
    {
     "name": "stdout",
     "output_type": "stream",
     "text": [
      "('g', 'n', 'o', 'k', 'g', 'n', 'i', 'k')\n"
     ]
    }
   ],
   "source": [
    "#reversing the tuple\n",
    "m=('kingkong')\n",
    "revv=reversed(m)\n",
    "print(tuple(revv))"
   ]
  },
  {
   "cell_type": "code",
   "execution_count": 61,
   "id": "290662e4",
   "metadata": {},
   "outputs": [
    {
     "name": "stdout",
     "output_type": "stream",
     "text": [
      "{'x': [1, 2, 3], 'y': [1, 2], 'z': [1]}\n"
     ]
    }
   ],
   "source": [
    "#converting the list of tuples in to the dictionary\n",
    "#create a list\n",
    "lis = [(\"x\", 1), (\"x\", 2), (\"x\", 3), (\"y\", 1), (\"y\", 2), (\"z\", 1)]\n",
    "dic = {}\n",
    "for x,y in lis:\n",
    "    dic.setdefault(x, []).append(y)\n",
    "print (dic)"
   ]
  },
  {
   "cell_type": "code",
   "execution_count": 62,
   "id": "b9ecc096",
   "metadata": {},
   "outputs": [
    {
     "name": "stdout",
     "output_type": "stream",
     "text": [
      "{'x': [1, 2, 3], 'y': [1, 2], 'z': [1]}\n"
     ]
    }
   ],
   "source": [
    "lis = [(\"x\", 1), (\"x\", 2), (\"x\", 3), (\"y\", 1), (\"y\", 2), (\"z\", 1)]\n",
    "dic={}\n",
    "for x,y in lis:\n",
    "    dic.setdefault(x,[]).append(y)\n",
    "print(dic)"
   ]
  },
  {
   "cell_type": "code",
   "execution_count": 65,
   "id": "f5772907",
   "metadata": {},
   "outputs": [
    {
     "name": "stdout",
     "output_type": "stream",
     "text": [
      "the tuple is (1, 2, 3)\n"
     ]
    }
   ],
   "source": [
    "#tuple using formatting\n",
    "x=(1,2,3)\n",
    "print('the tuple is {0}'.format(x))"
   ]
  },
  {
   "cell_type": "code",
   "execution_count": 79,
   "id": "5c4cdfdf",
   "metadata": {},
   "outputs": [
    {
     "name": "stdout",
     "output_type": "stream",
     "text": [
      "[(10, 20, 100), (40, 50, 100), (70, 80, 100)]\n",
      "[(10, 20, 100), (40, 50, 100), (70, 80, 100)]\n"
     ]
    }
   ],
   "source": [
    "#replacing the last values of tuples in the list\n",
    "x=[(10, 20, 40), (40, 50, 60), (70, 80, 90)]\n",
    "y=[]\n",
    "for i in x:\n",
    "    i=list(i)\n",
    "    del i[-1]\n",
    "    i.append(100)\n",
    "    y.append(i)\n",
    "m=[]\n",
    "for i in y:\n",
    "    i=tuple(i)\n",
    "    m.append(i)\n",
    "print(m)\n",
    "\n",
    "\n",
    "#or\n",
    "#in either ways answer is same\n",
    "\n",
    "\n",
    "x=[(10, 20, 40), (40, 50, 60), (70, 80, 90)]\n",
    "print([t[:-1]+(100,) for t in x])"
   ]
  },
  {
   "cell_type": "code",
   "execution_count": 85,
   "id": "beaf6f9b",
   "metadata": {},
   "outputs": [
    {
     "name": "stdout",
     "output_type": "stream",
     "text": [
      "[('',), ('a', 'b'), ('a', 'b', 'c'), 'd']\n"
     ]
    }
   ],
   "source": [
    "#removing the empty tuples from the list\n",
    "L = [(), (), ('',), ('a', 'b'), ('a', 'b', 'c'), ('d')]\n",
    "l=[e for e in L if e]\n",
    "print(l)"
   ]
  },
  {
   "cell_type": "code",
   "execution_count": 88,
   "id": "e7877ddf",
   "metadata": {},
   "outputs": [
    {
     "name": "stdout",
     "output_type": "stream",
     "text": [
      "('k', 'i', 'n', 'g', 'k', 'o', 'n', 'g', '.')\n"
     ]
    }
   ],
   "source": [
    "#converting string in a tuple\n",
    "str='kingkong.'\n",
    "str=tuple(str)\n",
    "print(str)"
   ]
  },
  {
   "cell_type": "code",
   "execution_count": 91,
   "id": "ab50576c",
   "metadata": {},
   "outputs": [
    {
     "name": "stdout",
     "output_type": "stream",
     "text": [
      "27648\n"
     ]
    }
   ],
   "source": [
    "#product of all the items in the tuple\n",
    "x=(2,4,8,8,3,2,9)\n",
    "import math\n",
    "print(math.prod(x))"
   ]
  },
  {
   "cell_type": "code",
   "execution_count": 115,
   "id": "c719f451",
   "metadata": {},
   "outputs": [
    {
     "name": "stdout",
     "output_type": "stream",
     "text": [
      "[30.5, 34.25, 27.0, 23.25]\n"
     ]
    }
   ],
   "source": [
    "#average of numbers in the given tuples of the tuples\n",
    "num=((10, 10, 10, 12), (30, 45, 56, 45), (81, 80, 39, 32), (1, 2, 3, 4))\n",
    "k=[sum(l)/len(l) for l in zip(*x)]\n",
    "m=[sum(x) / len(x) for x in zip(*num)]\n",
    "print(k)"
   ]
  },
  {
   "cell_type": "code",
   "execution_count": 130,
   "id": "5babd41a",
   "metadata": {},
   "outputs": [
    {
     "name": "stdout",
     "output_type": "stream",
     "text": [
      "((333, 33), (1416, 55))\n"
     ]
    }
   ],
   "source": [
    "#converting tuple of strings to the tuple of integers\n",
    "x=(('333', '33'), ('1416', '55'))\n",
    "print(tuple((int(m[0]), int(m[1])) for m in x))"
   ]
  },
  {
   "cell_type": "code",
   "execution_count": 1,
   "id": "0cc75059",
   "metadata": {},
   "outputs": [
    {
     "name": "stdout",
     "output_type": "stream",
     "text": [
      "(1, 2)\n",
      "(2, 3)\n",
      "(3, 4)\n",
      "(4, 5)\n"
     ]
    }
   ],
   "source": [
    "#converting the given list of tuples to the list\n",
    "m=[(1, 2), (2, 3), (3, 4),(4,5)]\n",
    "f=[]\n",
    "for i in m:\n",
    "    print(i)"
   ]
  }
 ],
 "metadata": {
  "kernelspec": {
   "display_name": "Python 3 (ipykernel)",
   "language": "python",
   "name": "python3"
  },
  "language_info": {
   "codemirror_mode": {
    "name": "ipython",
    "version": 3
   },
   "file_extension": ".py",
   "mimetype": "text/x-python",
   "name": "python",
   "nbconvert_exporter": "python",
   "pygments_lexer": "ipython3",
   "version": "3.11.4"
  }
 },
 "nbformat": 4,
 "nbformat_minor": 5
}
