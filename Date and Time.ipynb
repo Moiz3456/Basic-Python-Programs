{
 "cells": [
  {
   "cell_type": "markdown",
   "id": "3d691c7c",
   "metadata": {},
   "source": [
    "##### We need to have some aptitudal knowledge on calendar and its techniques to find out the dates and days according to the requirement. More Importantly it is recommended that, before working on programs which are related to time, date and calendar, it is better to read the python docs of these three modules."
   ]
  },
  {
   "cell_type": "code",
   "execution_count": 11,
   "id": "ada71bdf",
   "metadata": {},
   "outputs": [
    {
     "name": "stdout",
     "output_type": "stream",
     "text": [
      "Current date and time Sat Jul 29 12:48:17 2023\n",
      "Crrent Year 2023\n",
      "Current month July\n",
      "Current Week of the Year 30\n",
      "Weekday of the week 6\n",
      "Day of the year 210\n",
      "Day of the month 29\n",
      "Day of the week Saturday\n"
     ]
    }
   ],
   "source": [
    "#displaying various date and time formats\n",
    "import time\n",
    "import datetime\n",
    "print(\"Current date and time\",time.asctime())\n",
    "print(\"Crrent Year\",datetime.date.today().strftime(\"%Y\"))\n",
    "print(\"Current month\",datetime.date.today().strftime(\"%B\"))\n",
    "print(\"Current Week of the Year\", datetime.date.today().strftime(\"%W\"))\n",
    "print(\"Weekday of the week\",datetime.date.today().strftime(\"%w\"))\n",
    "print(\"Day of the year\",datetime.date.today().strftime(\"%j\"))\n",
    "print(\"Day of the month\",datetime.date.today().strftime(\"%d\"))\n",
    "print(\"Day of the week\",datetime.date.today().strftime(\"%A\"))"
   ]
  },
  {
   "cell_type": "code",
   "execution_count": 18,
   "id": "81ba7463",
   "metadata": {},
   "outputs": [
    {
     "name": "stdout",
     "output_type": "stream",
     "text": [
      "2014-07-01 14:43:00\n"
     ]
    }
   ],
   "source": [
    "#converting the given string to date and time\n",
    "from datetime import datetime\n",
    "string='Jul 1 2014 2:43PM'\n",
    "after_changing=datetime.strptime(string,'%b %d %Y %I:%M%p')\n",
    "print(after_changing)"
   ]
  },
  {
   "cell_type": "code",
   "execution_count": 16,
   "id": "5325d113",
   "metadata": {},
   "outputs": [
    {
     "name": "stdout",
     "output_type": "stream",
     "text": [
      "Year is not the leap year\n"
     ]
    }
   ],
   "source": [
    "#checking the year is leap year or not\n",
    "import datetime\n",
    "year=datetime.date.today().strftime(\"%Y\")\n",
    "if int(year)%4==0:\n",
    "    print(\"Year is the leap year\")\n",
    "else:\n",
    "    print(\"Year is not the leap year\")"
   ]
  },
  {
   "cell_type": "code",
   "execution_count": 21,
   "id": "ec8bc4b5",
   "metadata": {},
   "outputs": [
    {
     "name": "stdout",
     "output_type": "stream",
     "text": [
      "12:59:26.881098\n"
     ]
    }
   ],
   "source": [
    "#program to get the current time in python\n",
    "import datetime\n",
    "print(datetime.datetime.now().time())"
   ]
  },
  {
   "cell_type": "code",
   "execution_count": 41,
   "id": "5ddc57f9",
   "metadata": {},
   "outputs": [
    {
     "name": "stdout",
     "output_type": "stream",
     "text": [
      "2023-07-24\n",
      " 2023-07-29 \n",
      " 2023-07-28 \n",
      " 2023-07-30 \n",
      "\n"
     ]
    }
   ],
   "source": [
    "#subtration of five days from the current days and simultaneously printing yesterday\n",
    "#today and tommorow\n",
    "import datetime\n",
    "current_date=datetime.date.today()\n",
    "new_date=current_date-datetime.timedelta(5)\n",
    "print(new_date)\n",
    "today=datetime.date.today()\n",
    "yesterday=current_date-datetime.timedelta(1)\n",
    "tommorow=current_date+datetime.timedelta(1)\n",
    "print('',today,'\\n',yesterday,'\\n',tommorow,'\\n')"
   ]
  },
  {
   "cell_type": "code",
   "execution_count": 34,
   "id": "fcf90738",
   "metadata": {},
   "outputs": [
    {
     "name": "stdout",
     "output_type": "stream",
     "text": [
      "10 09 10 13:31:22\n"
     ]
    }
   ],
   "source": [
    "#convert a unix time stamp string to a unicode date\n",
    "from datetime import datetime\n",
    "print(datetime.fromtimestamp(int('1284105682')).strftime(\"%y %m %d %H:%M:%S\"))"
   ]
  },
  {
   "cell_type": "code",
   "execution_count": 54,
   "id": "286d6812",
   "metadata": {},
   "outputs": [
    {
     "name": "stdout",
     "output_type": "stream",
     "text": [
      "2023-07-29 13:26:15.400970\n",
      "2023-07-29 18:26:15.400970\n"
     ]
    }
   ],
   "source": [
    "#adding five seconds to the current time\n",
    "import datetime\n",
    "time=datetime.datetime.now()\n",
    "addition=time+datetime.timedelta(hours=5)\n",
    "#minutes,hours,days,months,years can be called in timedelta\n",
    "print(time)\n",
    "print(addition)"
   ]
  },
  {
   "cell_type": "code",
   "execution_count": 59,
   "id": "a1221892",
   "metadata": {},
   "outputs": [
    {
     "name": "stdout",
     "output_type": "stream",
     "text": [
      "1690617822776\n"
     ]
    }
   ],
   "source": [
    "#import time in milliseconds\n",
    "import time\n",
    "from datetime import datetime\n",
    "seconds=int(round(time.time()*1000))\n",
    "print(seconds)"
   ]
  },
  {
   "cell_type": "code",
   "execution_count": 62,
   "id": "4fca6705",
   "metadata": {},
   "outputs": [
    {
     "name": "stdout",
     "output_type": "stream",
     "text": [
      "Mon Dec  5 00:00:00 2016\n"
     ]
    }
   ],
   "source": [
    "#first monday of the given week\n",
    "import time\n",
    "print(time.asctime(time.strptime('2016 49 1','%Y %W %w')))"
   ]
  },
  {
   "cell_type": "code",
   "execution_count": 66,
   "id": "1e5e0fe5",
   "metadata": {},
   "outputs": [
    {
     "name": "stdout",
     "output_type": "stream",
     "text": [
      "2023-07-29 13:49:56\n"
     ]
    }
   ],
   "source": [
    "#dropping the micro seconds\n",
    "import datetime\n",
    "print(datetime.datetime.today().replace(microsecond=0))"
   ]
  },
  {
   "cell_type": "code",
   "execution_count": 73,
   "id": "db79f047",
   "metadata": {},
   "outputs": [
    {
     "name": "stdout",
     "output_type": "stream",
     "text": [
      "427 days, 0:00:00\n"
     ]
    }
   ],
   "source": [
    "#printing the days in b/w two dates\n",
    "import datetime\n",
    "first_date=date(2023,2,6)\n",
    "next_date=date(2021,12,6)\n",
    "print(first_date-next_date)"
   ]
  },
  {
   "cell_type": "code",
   "execution_count": 79,
   "id": "a1ac5a05",
   "metadata": {},
   "outputs": [
    {
     "name": "stdout",
     "output_type": "stream",
     "text": [
      "2023-07-29\n",
      "4\n",
      "2023-07-25\n"
     ]
    }
   ],
   "source": [
    "#get the date of the last tuesday\n",
    "import datetime\n",
    "today=date.today()\n",
    "print(today)\n"
   ]
  },
  {
   "cell_type": "code",
   "execution_count": 84,
   "id": "607c1dfe",
   "metadata": {},
   "outputs": [
    {
     "name": "stdout",
     "output_type": "stream",
     "text": [
      "2023-07-29\n",
      "4\n",
      "2023-07-25\n"
     ]
    }
   ],
   "source": [
    "#finding out the date of the last tuesday\n",
    "import datetime\n",
    "today=date.today()\n",
    "print(today)\n",
    "offset=today.weekday()-1%7\n",
    "print(offset)\n",
    "lasttuesday=today-datetime.timedelta(days=offset)\n",
    "print(lasttuesday)"
   ]
  },
  {
   "cell_type": "code",
   "execution_count": 92,
   "id": "276f3835",
   "metadata": {},
   "outputs": [
    {
     "name": "stdout",
     "output_type": "stream",
     "text": [
      "(4, 31)\n"
     ]
    }
   ],
   "source": [
    "#printing the number of days in the given month and year\n",
    "from calendar import monthrange\n",
    "year=2016\n",
    "month=1\n",
    "print(monthrange(year,month))"
   ]
  }
 ],
 "metadata": {
  "kernelspec": {
   "display_name": "Python 3 (ipykernel)",
   "language": "python",
   "name": "python3"
  },
  "language_info": {
   "codemirror_mode": {
    "name": "ipython",
    "version": 3
   },
   "file_extension": ".py",
   "mimetype": "text/x-python",
   "name": "python",
   "nbconvert_exporter": "python",
   "pygments_lexer": "ipython3",
   "version": "3.11.4"
  }
 },
 "nbformat": 4,
 "nbformat_minor": 5
}
