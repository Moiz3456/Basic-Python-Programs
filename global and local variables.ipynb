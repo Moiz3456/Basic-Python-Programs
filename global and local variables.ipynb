{
 "cells": [
  {
   "cell_type": "code",
   "execution_count": 8,
   "id": "5409344d",
   "metadata": {},
   "outputs": [
    {
     "name": "stdout",
     "output_type": "stream",
     "text": [
      "100\n",
      "101\n",
      "101\n"
     ]
    }
   ],
   "source": [
    "#unless we call the updated variable of the function, global variable won't change\n",
    "max = 100 \n",
    "def print_max():\n",
    "    global max\n",
    "    max = max + 1 \n",
    "    print(max)\n",
    "\n",
    "print(max)\n",
    "print_max()\n",
    "print(max)"
   ]
  },
  {
   "cell_type": "code",
   "execution_count": 11,
   "id": "e72fd437",
   "metadata": {},
   "outputs": [
    {
     "name": "stdout",
     "output_type": "stream",
     "text": [
      "Nick Name is Ram\n",
      "Original Name is Ramesh\n"
     ]
    }
   ],
   "source": [
    "#function inside the function\n",
    "def outer():\n",
    "    name=\"Original Name\"\n",
    "    def inner():\n",
    "        name=\"Nick Name\"\n",
    "        print(name,\"is Ram\")\n",
    "    inner()\n",
    "    print(name,'is Ramesh')\n",
    "outer()"
   ]
  },
  {
   "cell_type": "code",
   "execution_count": 21,
   "id": "65ba4620",
   "metadata": {},
   "outputs": [
    {
     "name": "stdout",
     "output_type": "stream",
     "text": [
      "Outer: original title\n",
      "------------------------------\n",
      "inner: another title\n",
      "Outer: another title\n"
     ]
    },
    {
     "data": {
      "text/plain": [
       "function"
      ]
     },
     "execution_count": 21,
     "metadata": {},
     "output_type": "execute_result"
    }
   ],
   "source": [
    "'''same goes here also, unless you call the function where some\n",
    "    modification of variable is made, value of parent function won't change''' \n",
    "def outer():\n",
    "    title='original title'\n",
    "    def inner():\n",
    "        nonlocal title\n",
    "        title='another title'\n",
    "        print('inner:',title)\n",
    "    print(\"Outer:\",title)\n",
    "outer()\n",
    "\n",
    "print('-'*30)\n",
    "\n",
    "def outer():\n",
    "    title='original title'\n",
    "    def inner():\n",
    "        nonlocal title\n",
    "        title='another title'\n",
    "        print('inner:',title)\n",
    "    inner()\n",
    "    print(\"Outer:\",title)\n",
    "outer()\n",
    "\n",
    "type(outer)"
   ]
  },
  {
   "cell_type": "code",
   "execution_count": 25,
   "id": "53955f6d",
   "metadata": {},
   "outputs": [
    {
     "name": "stdout",
     "output_type": "stream",
     "text": [
      "40\n"
     ]
    }
   ],
   "source": [
    "#high order functions\n",
    "def apply(x,function):\n",
    "    result=function(x)\n",
    "    return print(result)\n",
    "\n",
    "def mul(y):\n",
    "    return y*10\n",
    "\n",
    "apply(4,mul)"
   ]
  },
  {
   "cell_type": "code",
   "execution_count": 28,
   "id": "5031ce09",
   "metadata": {},
   "outputs": [
    {
     "name": "stdout",
     "output_type": "stream",
     "text": [
      "3\n"
     ]
    }
   ],
   "source": [
    "def make_function():\n",
    "    def adder(x, y):\n",
    "        return x + y\n",
    "    return adder\n",
    "f=make_function()\n",
    "print(f(1,2))"
   ]
  }
 ],
 "metadata": {
  "kernelspec": {
   "display_name": "Python 3 (ipykernel)",
   "language": "python",
   "name": "python3"
  },
  "language_info": {
   "codemirror_mode": {
    "name": "ipython",
    "version": 3
   },
   "file_extension": ".py",
   "mimetype": "text/x-python",
   "name": "python",
   "nbconvert_exporter": "python",
   "pygments_lexer": "ipython3",
   "version": "3.11.4"
  }
 },
 "nbformat": 4,
 "nbformat_minor": 5
}
