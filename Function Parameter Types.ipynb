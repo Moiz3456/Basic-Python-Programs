{
 "cells": [
  {
   "cell_type": "markdown",
   "id": "de8c763c",
   "metadata": {},
   "source": [
    "###### Important concepts in functions\n",
    "        Function Parameters\n",
    "            Multiple Function Paramets\n",
    "            Default Function Parameters\n",
    "            Named Arguments\n",
    "            Arbitary Arguments\n",
    "            Positional and Keyword Arguments\n",
    "            Anonymous Functions\n",
    "\n",
    "Below are different types of functions, have a look and understand the concept easily\n",
    "           "
   ]
  },
  {
   "cell_type": "code",
   "execution_count": 30,
   "id": "ce642279",
   "metadata": {},
   "outputs": [],
   "source": [
    "#functional Parameters\n",
    "\n",
    "#variables defined in the functions are parameters\n",
    "#Values passed inside the function while calling the function are called arguments"
   ]
  },
  {
   "cell_type": "code",
   "execution_count": 16,
   "id": "82ca2429",
   "metadata": {},
   "outputs": [
    {
     "name": "stdout",
     "output_type": "stream",
     "text": [
      "Defined name is: kingkong And the age is: 34\n"
     ]
    }
   ],
   "source": [
    "#multiple function parameters\n",
    "\n",
    "def func(name,age):\n",
    "    return print(\"Defined name is:\",name,\"And the age is:\",age)\n",
    "\n",
    "func('kingkong','34')"
   ]
  },
  {
   "cell_type": "code",
   "execution_count": 23,
   "id": "bf6c831b",
   "metadata": {},
   "outputs": [
    {
     "name": "stdout",
     "output_type": "stream",
     "text": [
      "name is: Kingkong and his age is: 34 the color is black\n",
      "name is: kingkong and his age is: 35 the color is black\n",
      "name is: kingkong and his age is: 45 the color is Blue\n",
      "name is: lion and his age is: 34 the color is black\n"
     ]
    }
   ],
   "source": [
    "#default function parameters\n",
    "def func(name,age=34,color='black'):\n",
    "    return print(\"name is:\",name,\"and his age is:\",age,'the color is',color)\n",
    "\n",
    "func(\"Kingkong\")\n",
    "\n",
    "    #default assigned valued can be changed(age and color), but note the format\n",
    "\n",
    "func(\"kingkong\",\"35\")\n",
    "func(\"kingkong\",\"45\",'Blue')\n",
    "func(\"lion\")"
   ]
  },
  {
   "cell_type": "code",
   "execution_count": 27,
   "id": "7393c49c",
   "metadata": {},
   "outputs": [
    {
     "name": "stdout",
     "output_type": "stream",
     "text": [
      "Rahul welcome to the Hotel Taj \n",
      "Have a good time\n",
      "\n",
      "Rahul welcome to the Hotel Pristine \n",
      "Have a good time\n",
      "\n",
      "Ravi we are honoured to welcome you to the Hotel Taj \n",
      "Have a good time\n"
     ]
    }
   ],
   "source": [
    "#named arguments\n",
    "def func(name,greeting=\"welcome\",hotel=\"Hotel Taj\"):\n",
    "    return print(name,greeting,\"to the\",hotel,\"\\nHave a good time\")\n",
    "func(\"Rahul\")\n",
    "\n",
    "    #changing the value of the parameter\n",
    "func(\"\\nRahul\",hotel=\"Hotel Pristine\")\n",
    "\n",
    "    #changing the value in format without using the parameter\n",
    "func(\"\\nRavi\",\"we are honoured to welcome you\")"
   ]
  },
  {
   "cell_type": "code",
   "execution_count": 32,
   "id": "57daa8d7",
   "metadata": {
    "scrolled": true
   },
   "outputs": [
    {
     "name": "stdout",
     "output_type": "stream",
     "text": [
      "we are honoured to welcome you Mr. rahul\n",
      "we are honoured to welcome you Mr. ravi\n",
      "we are honoured to welcome you Mr. rohith\n",
      "we are honoured to welcome you Mr. sai\n",
      "we are honoured to welcome you Mr. aravind\n",
      "we are honoured to welcome you Mr. hari\n",
      "we are honoured to welcome you Mr. mahender\n"
     ]
    }
   ],
   "source": [
    "#arbitary arguments: these are the types of functions where number of arguments are passed\n",
    "def func(*args):\n",
    "    for i in args:\n",
    "        print(\"we are honoured to welcome you Mr.\",i)\n",
    "        \n",
    "func('rahul','ravi','rohith','sai','aravind','hari','mahender')\n"
   ]
  },
  {
   "cell_type": "code",
   "execution_count": 39,
   "id": "f3e032e1",
   "metadata": {},
   "outputs": [
    {
     "name": "stdout",
     "output_type": "stream",
     "text": [
      "Args: rahul\n",
      "Args: ravi\n",
      "Args: sai\n",
      "total number is: 3\n",
      "male number is: 3\n"
     ]
    }
   ],
   "source": [
    "#positional and keyword arguments\n",
    "def func(*args,**kwargs):\n",
    "    for i in args:\n",
    "        print(\"Args:\",i)\n",
    "    for i in kwargs:\n",
    "        print(i,\"number is:\",kwargs[i])\n",
    "func('rahul','ravi','sai',total='3',male='3')"
   ]
  },
  {
   "cell_type": "markdown",
   "id": "d2fa4f3f",
   "metadata": {},
   "source": [
    "\n",
    "\n",
    "\n",
    "Anonymous Function: it is a function without a name but can be used in a point where needed using keyword lambda so they are called\n",
    "lambda functions\n",
    "\n",
    "it can have many number of arguments but only one expression\n",
    "\n",
    "lambda arguments: expressions    "
   ]
  },
  {
   "cell_type": "code",
   "execution_count": 46,
   "id": "b9bf59e6",
   "metadata": {},
   "outputs": [
    {
     "name": "stdout",
     "output_type": "stream",
     "text": [
      "20000\n"
     ]
    }
   ],
   "source": [
    "#anonymous functions\n",
    "double=lambda i,j,k:i*j*k\n",
    "print(double(10,40,50))"
   ]
  }
 ],
 "metadata": {
  "kernelspec": {
   "display_name": "Python 3 (ipykernel)",
   "language": "python",
   "name": "python3"
  },
  "language_info": {
   "codemirror_mode": {
    "name": "ipython",
    "version": 3
   },
   "file_extension": ".py",
   "mimetype": "text/x-python",
   "name": "python",
   "nbconvert_exporter": "python",
   "pygments_lexer": "ipython3",
   "version": "3.10.7"
  }
 },
 "nbformat": 4,
 "nbformat_minor": 5
}
